{
 "cells": [
  {
   "cell_type": "markdown",
   "metadata": {
    "id": "ff9JlFAOqLBD"
   },
   "source": [
    "# Stock market prediction and forecasting using stacked LSTM"
   ]
  },
  {
   "cell_type": "code",
   "execution_count": 2,
   "metadata": {
    "colab": {
     "base_uri": "https://localhost:8080/"
    },
    "id": "JylrXE4Op9_h",
    "outputId": "3c982430-ea14-4d7b-86cc-d9e6ef2b7055"
   },
   "outputs": [
    {
     "name": "stdout",
     "output_type": "stream",
     "text": [
      "Collecting pandas_datareader\n",
      "  Using cached pandas_datareader-0.10.0-py3-none-any.whl (109 kB)\n",
      "Requirement already satisfied: pandas>=0.23 in d:\\anaconda\\lib\\site-packages (from pandas_datareader) (1.2.4)\n",
      "Requirement already satisfied: requests>=2.19.0 in d:\\anaconda\\lib\\site-packages (from pandas_datareader) (2.24.0)\n",
      "Requirement already satisfied: lxml in d:\\anaconda\\lib\\site-packages (from pandas_datareader) (4.6.1)\n",
      "Requirement already satisfied: numpy>=1.16.5 in d:\\anaconda\\lib\\site-packages (from pandas>=0.23->pandas_datareader) (1.22.2)\n",
      "Requirement already satisfied: python-dateutil>=2.7.3 in d:\\anaconda\\lib\\site-packages (from pandas>=0.23->pandas_datareader) (2.8.1)\n",
      "Requirement already satisfied: pytz>=2017.3 in d:\\anaconda\\lib\\site-packages (from pandas>=0.23->pandas_datareader) (2020.1)\n",
      "Requirement already satisfied: certifi>=2017.4.17 in d:\\anaconda\\lib\\site-packages (from requests>=2.19.0->pandas_datareader) (2020.6.20)\n",
      "Requirement already satisfied: chardet<4,>=3.0.2 in d:\\anaconda\\lib\\site-packages (from requests>=2.19.0->pandas_datareader) (3.0.4)\n",
      "Requirement already satisfied: urllib3!=1.25.0,!=1.25.1,<1.26,>=1.21.1 in d:\\anaconda\\lib\\site-packages (from requests>=2.19.0->pandas_datareader) (1.25.11)\n",
      "Requirement already satisfied: idna<3,>=2.5 in d:\\anaconda\\lib\\site-packages (from requests>=2.19.0->pandas_datareader) (2.10)\n",
      "Requirement already satisfied: six>=1.5 in d:\\anaconda\\lib\\site-packages (from python-dateutil>=2.7.3->pandas>=0.23->pandas_datareader) (1.16.0)\n",
      "Installing collected packages: pandas-datareader\n",
      "Successfully installed pandas-datareader-0.10.0\n",
      "Note: you may need to restart the kernel to use updated packages.\n"
     ]
    }
   ],
   "source": [
    "pip install pandas_datareader"
   ]
  },
  {
   "cell_type": "code",
   "execution_count": 1,
   "metadata": {
    "id": "befwq7HWqRxn"
   },
   "outputs": [],
   "source": [
    "#Datacollection\n",
    "import pandas_datareader as pdr #pandas_datareader is used to extract the data from the internet.It is popularly used for working with realtime stock price datasets"
   ]
  },
  {
   "cell_type": "code",
   "execution_count": 2,
   "metadata": {
    "colab": {
     "base_uri": "https://localhost:8080/"
    },
    "id": "nQUjv1HDrAy4",
    "outputId": "09abf23a-89d3-464e-a80c-2200458229ef"
   },
   "outputs": [],
   "source": [
    "#Tiingo is a financial data platform that makes high quality financial tools available to all. Tiingo has a REST and Real-Time Data API, which this library helps you to access.\n",
    "df=pdr.get_data_tiingo(\"TSLA\",api_key='87e6d33ce6a8757cd85a6b9ef1a8de29fe638021')"
   ]
  },
  {
   "cell_type": "code",
   "execution_count": 3,
   "metadata": {
    "id": "rrhzPJpowopg"
   },
   "outputs": [],
   "source": [
    "df.to_csv('TSLA.csv')"
   ]
  },
  {
   "cell_type": "code",
   "execution_count": 4,
   "metadata": {
    "id": "2cVhy0-6wxPH"
   },
   "outputs": [],
   "source": [
    "import pandas as pd"
   ]
  },
  {
   "cell_type": "code",
   "execution_count": 5,
   "metadata": {
    "colab": {
     "base_uri": "https://localhost:8080/",
     "height": 206
    },
    "id": "1npzdZy1wzuk",
    "outputId": "2ddc2b1b-60d3-42e8-87b5-90c9d4718111"
   },
   "outputs": [
    {
     "data": {
      "text/html": [
       "<div>\n",
       "<style scoped>\n",
       "    .dataframe tbody tr th:only-of-type {\n",
       "        vertical-align: middle;\n",
       "    }\n",
       "\n",
       "    .dataframe tbody tr th {\n",
       "        vertical-align: top;\n",
       "    }\n",
       "\n",
       "    .dataframe thead th {\n",
       "        text-align: right;\n",
       "    }\n",
       "</style>\n",
       "<table border=\"1\" class=\"dataframe\">\n",
       "  <thead>\n",
       "    <tr style=\"text-align: right;\">\n",
       "      <th></th>\n",
       "      <th>symbol</th>\n",
       "      <th>date</th>\n",
       "      <th>close</th>\n",
       "      <th>high</th>\n",
       "      <th>low</th>\n",
       "      <th>open</th>\n",
       "      <th>volume</th>\n",
       "      <th>adjClose</th>\n",
       "      <th>adjHigh</th>\n",
       "      <th>adjLow</th>\n",
       "      <th>adjOpen</th>\n",
       "      <th>adjVolume</th>\n",
       "      <th>divCash</th>\n",
       "      <th>splitFactor</th>\n",
       "    </tr>\n",
       "  </thead>\n",
       "  <tbody>\n",
       "    <tr>\n",
       "      <th>0</th>\n",
       "      <td>TSLA</td>\n",
       "      <td>2017-05-12 00:00:00+00:00</td>\n",
       "      <td>324.81</td>\n",
       "      <td>327.00</td>\n",
       "      <td>321.53</td>\n",
       "      <td>325.48</td>\n",
       "      <td>4114166</td>\n",
       "      <td>64.962</td>\n",
       "      <td>65.400</td>\n",
       "      <td>64.306</td>\n",
       "      <td>65.096</td>\n",
       "      <td>20570830</td>\n",
       "      <td>0.0</td>\n",
       "      <td>1.0</td>\n",
       "    </tr>\n",
       "    <tr>\n",
       "      <th>1</th>\n",
       "      <td>TSLA</td>\n",
       "      <td>2017-05-15 00:00:00+00:00</td>\n",
       "      <td>315.88</td>\n",
       "      <td>320.20</td>\n",
       "      <td>312.53</td>\n",
       "      <td>318.38</td>\n",
       "      <td>7568594</td>\n",
       "      <td>63.176</td>\n",
       "      <td>64.040</td>\n",
       "      <td>62.506</td>\n",
       "      <td>63.676</td>\n",
       "      <td>37842970</td>\n",
       "      <td>0.0</td>\n",
       "      <td>1.0</td>\n",
       "    </tr>\n",
       "    <tr>\n",
       "      <th>2</th>\n",
       "      <td>TSLA</td>\n",
       "      <td>2017-05-16 00:00:00+00:00</td>\n",
       "      <td>317.01</td>\n",
       "      <td>320.06</td>\n",
       "      <td>315.14</td>\n",
       "      <td>317.59</td>\n",
       "      <td>4121619</td>\n",
       "      <td>63.402</td>\n",
       "      <td>64.012</td>\n",
       "      <td>63.028</td>\n",
       "      <td>63.518</td>\n",
       "      <td>20608095</td>\n",
       "      <td>0.0</td>\n",
       "      <td>1.0</td>\n",
       "    </tr>\n",
       "    <tr>\n",
       "      <th>3</th>\n",
       "      <td>TSLA</td>\n",
       "      <td>2017-05-17 00:00:00+00:00</td>\n",
       "      <td>306.11</td>\n",
       "      <td>314.63</td>\n",
       "      <td>305.50</td>\n",
       "      <td>314.39</td>\n",
       "      <td>6675795</td>\n",
       "      <td>61.222</td>\n",
       "      <td>62.926</td>\n",
       "      <td>61.100</td>\n",
       "      <td>62.878</td>\n",
       "      <td>33378975</td>\n",
       "      <td>0.0</td>\n",
       "      <td>1.0</td>\n",
       "    </tr>\n",
       "    <tr>\n",
       "      <th>4</th>\n",
       "      <td>TSLA</td>\n",
       "      <td>2017-05-18 00:00:00+00:00</td>\n",
       "      <td>313.06</td>\n",
       "      <td>313.94</td>\n",
       "      <td>305.31</td>\n",
       "      <td>307.00</td>\n",
       "      <td>5590416</td>\n",
       "      <td>62.612</td>\n",
       "      <td>62.788</td>\n",
       "      <td>61.062</td>\n",
       "      <td>61.400</td>\n",
       "      <td>27952080</td>\n",
       "      <td>0.0</td>\n",
       "      <td>1.0</td>\n",
       "    </tr>\n",
       "  </tbody>\n",
       "</table>\n",
       "</div>"
      ],
      "text/plain": [
       "  symbol                       date   close    high     low    open   volume  \\\n",
       "0   TSLA  2017-05-12 00:00:00+00:00  324.81  327.00  321.53  325.48  4114166   \n",
       "1   TSLA  2017-05-15 00:00:00+00:00  315.88  320.20  312.53  318.38  7568594   \n",
       "2   TSLA  2017-05-16 00:00:00+00:00  317.01  320.06  315.14  317.59  4121619   \n",
       "3   TSLA  2017-05-17 00:00:00+00:00  306.11  314.63  305.50  314.39  6675795   \n",
       "4   TSLA  2017-05-18 00:00:00+00:00  313.06  313.94  305.31  307.00  5590416   \n",
       "\n",
       "   adjClose  adjHigh  adjLow  adjOpen  adjVolume  divCash  splitFactor  \n",
       "0    64.962   65.400  64.306   65.096   20570830      0.0          1.0  \n",
       "1    63.176   64.040  62.506   63.676   37842970      0.0          1.0  \n",
       "2    63.402   64.012  63.028   63.518   20608095      0.0          1.0  \n",
       "3    61.222   62.926  61.100   62.878   33378975      0.0          1.0  \n",
       "4    62.612   62.788  61.062   61.400   27952080      0.0          1.0  "
      ]
     },
     "execution_count": 5,
     "metadata": {},
     "output_type": "execute_result"
    }
   ],
   "source": [
    "df=pd.read_csv('TSLA.csv')\n",
    "df.head()"
   ]
  },
  {
   "cell_type": "code",
   "execution_count": 6,
   "metadata": {
    "colab": {
     "base_uri": "https://localhost:8080/",
     "height": 206
    },
    "id": "CO-geP7Lw7AQ",
    "outputId": "4f1a2c05-c751-432d-a258-86c7bfed4c98"
   },
   "outputs": [
    {
     "data": {
      "text/html": [
       "<div>\n",
       "<style scoped>\n",
       "    .dataframe tbody tr th:only-of-type {\n",
       "        vertical-align: middle;\n",
       "    }\n",
       "\n",
       "    .dataframe tbody tr th {\n",
       "        vertical-align: top;\n",
       "    }\n",
       "\n",
       "    .dataframe thead th {\n",
       "        text-align: right;\n",
       "    }\n",
       "</style>\n",
       "<table border=\"1\" class=\"dataframe\">\n",
       "  <thead>\n",
       "    <tr style=\"text-align: right;\">\n",
       "      <th></th>\n",
       "      <th>symbol</th>\n",
       "      <th>date</th>\n",
       "      <th>close</th>\n",
       "      <th>high</th>\n",
       "      <th>low</th>\n",
       "      <th>open</th>\n",
       "      <th>volume</th>\n",
       "      <th>adjClose</th>\n",
       "      <th>adjHigh</th>\n",
       "      <th>adjLow</th>\n",
       "      <th>adjOpen</th>\n",
       "      <th>adjVolume</th>\n",
       "      <th>divCash</th>\n",
       "      <th>splitFactor</th>\n",
       "    </tr>\n",
       "  </thead>\n",
       "  <tbody>\n",
       "    <tr>\n",
       "      <th>1253</th>\n",
       "      <td>TSLA</td>\n",
       "      <td>2022-05-04 00:00:00+00:00</td>\n",
       "      <td>952.62</td>\n",
       "      <td>955.50</td>\n",
       "      <td>885.280</td>\n",
       "      <td>903.94</td>\n",
       "      <td>27039655</td>\n",
       "      <td>952.62</td>\n",
       "      <td>955.50</td>\n",
       "      <td>885.280</td>\n",
       "      <td>903.94</td>\n",
       "      <td>27039655</td>\n",
       "      <td>0.0</td>\n",
       "      <td>1.0</td>\n",
       "    </tr>\n",
       "    <tr>\n",
       "      <th>1254</th>\n",
       "      <td>TSLA</td>\n",
       "      <td>2022-05-05 00:00:00+00:00</td>\n",
       "      <td>873.28</td>\n",
       "      <td>945.60</td>\n",
       "      <td>857.700</td>\n",
       "      <td>939.21</td>\n",
       "      <td>30839731</td>\n",
       "      <td>873.28</td>\n",
       "      <td>945.60</td>\n",
       "      <td>857.700</td>\n",
       "      <td>939.21</td>\n",
       "      <td>30839731</td>\n",
       "      <td>0.0</td>\n",
       "      <td>1.0</td>\n",
       "    </tr>\n",
       "    <tr>\n",
       "      <th>1255</th>\n",
       "      <td>TSLA</td>\n",
       "      <td>2022-05-06 00:00:00+00:00</td>\n",
       "      <td>865.65</td>\n",
       "      <td>888.00</td>\n",
       "      <td>843.105</td>\n",
       "      <td>887.00</td>\n",
       "      <td>24301037</td>\n",
       "      <td>865.65</td>\n",
       "      <td>888.00</td>\n",
       "      <td>843.105</td>\n",
       "      <td>887.00</td>\n",
       "      <td>24301037</td>\n",
       "      <td>0.0</td>\n",
       "      <td>1.0</td>\n",
       "    </tr>\n",
       "    <tr>\n",
       "      <th>1256</th>\n",
       "      <td>TSLA</td>\n",
       "      <td>2022-05-09 00:00:00+00:00</td>\n",
       "      <td>787.11</td>\n",
       "      <td>845.63</td>\n",
       "      <td>781.150</td>\n",
       "      <td>836.45</td>\n",
       "      <td>30270074</td>\n",
       "      <td>787.11</td>\n",
       "      <td>845.63</td>\n",
       "      <td>781.150</td>\n",
       "      <td>836.45</td>\n",
       "      <td>30270074</td>\n",
       "      <td>0.0</td>\n",
       "      <td>1.0</td>\n",
       "    </tr>\n",
       "    <tr>\n",
       "      <th>1257</th>\n",
       "      <td>TSLA</td>\n",
       "      <td>2022-05-10 00:00:00+00:00</td>\n",
       "      <td>800.04</td>\n",
       "      <td>825.36</td>\n",
       "      <td>774.250</td>\n",
       "      <td>819.31</td>\n",
       "      <td>28133877</td>\n",
       "      <td>800.04</td>\n",
       "      <td>825.36</td>\n",
       "      <td>774.250</td>\n",
       "      <td>819.31</td>\n",
       "      <td>28133877</td>\n",
       "      <td>0.0</td>\n",
       "      <td>1.0</td>\n",
       "    </tr>\n",
       "  </tbody>\n",
       "</table>\n",
       "</div>"
      ],
      "text/plain": [
       "     symbol                       date   close    high      low    open  \\\n",
       "1253   TSLA  2022-05-04 00:00:00+00:00  952.62  955.50  885.280  903.94   \n",
       "1254   TSLA  2022-05-05 00:00:00+00:00  873.28  945.60  857.700  939.21   \n",
       "1255   TSLA  2022-05-06 00:00:00+00:00  865.65  888.00  843.105  887.00   \n",
       "1256   TSLA  2022-05-09 00:00:00+00:00  787.11  845.63  781.150  836.45   \n",
       "1257   TSLA  2022-05-10 00:00:00+00:00  800.04  825.36  774.250  819.31   \n",
       "\n",
       "        volume  adjClose  adjHigh   adjLow  adjOpen  adjVolume  divCash  \\\n",
       "1253  27039655    952.62   955.50  885.280   903.94   27039655      0.0   \n",
       "1254  30839731    873.28   945.60  857.700   939.21   30839731      0.0   \n",
       "1255  24301037    865.65   888.00  843.105   887.00   24301037      0.0   \n",
       "1256  30270074    787.11   845.63  781.150   836.45   30270074      0.0   \n",
       "1257  28133877    800.04   825.36  774.250   819.31   28133877      0.0   \n",
       "\n",
       "      splitFactor  \n",
       "1253          1.0  \n",
       "1254          1.0  \n",
       "1255          1.0  \n",
       "1256          1.0  \n",
       "1257          1.0  "
      ]
     },
     "execution_count": 6,
     "metadata": {},
     "output_type": "execute_result"
    }
   ],
   "source": [
    "df.tail()"
   ]
  },
  {
   "cell_type": "code",
   "execution_count": 7,
   "metadata": {
    "id": "oBLwR_M8xaeD"
   },
   "outputs": [],
   "source": [
    "df1=df.reset_index()['close'] #we are going to predict the stock price based on the close column"
   ]
  },
  {
   "cell_type": "code",
   "execution_count": 8,
   "metadata": {
    "colab": {
     "base_uri": "https://localhost:8080/"
    },
    "id": "xHeZGe2Lx3nL",
    "outputId": "f12180a8-7136-45f5-89ee-22359daaae1a"
   },
   "outputs": [
    {
     "data": {
      "text/plain": [
       "(1258,)"
      ]
     },
     "execution_count": 8,
     "metadata": {},
     "output_type": "execute_result"
    }
   ],
   "source": [
    "df1.shape"
   ]
  },
  {
   "cell_type": "code",
   "execution_count": 9,
   "metadata": {
    "colab": {
     "base_uri": "https://localhost:8080/",
     "height": 282
    },
    "id": "tyOFxR7pyRvR",
    "outputId": "27a863d2-86ae-4af6-f8db-90aa86008e9c"
   },
   "outputs": [
    {
     "data": {
      "text/plain": [
       "[<matplotlib.lines.Line2D at 0x1e2c0849a90>]"
      ]
     },
     "execution_count": 9,
     "metadata": {},
     "output_type": "execute_result"
    },
    {
     "data": {
      "image/png": "[encoded data removed]",
      "text/plain": [
       "<Figure size 432x288 with 1 Axes>"
      ]
     },
     "metadata": {
      "needs_background": "light"
     },
     "output_type": "display_data"
    }
   ],
   "source": [
    "import matplotlib.pyplot as plt\n",
    "plt.plot(df1)"
   ]
  },
  {
   "cell_type": "markdown",
   "metadata": {
    "id": "w7TGSr-4y94Q"
   },
   "source": [
    "## LSTM are sensitive to scale of the data so we should apply minmax scaler"
   ]
  },
  {
   "cell_type": "code",
   "execution_count": 10,
   "metadata": {
    "colab": {
     "base_uri": "https://localhost:8080/"
    },
    "id": "O1dznziazrEA",
    "outputId": "6718f233-26eb-4c26-d071-c5f6722b88cb"
   },
   "outputs": [
    {
     "data": {
      "text/plain": [
       "(1258,)"
      ]
     },
     "execution_count": 10,
     "metadata": {},
     "output_type": "execute_result"
    }
   ],
   "source": [
    "df1.shape"
   ]
  },
  {
   "cell_type": "code",
   "execution_count": 11,
   "metadata": {
    "colab": {
     "base_uri": "https://localhost:8080/"
    },
    "id": "v5zR1MlXzvO2",
    "outputId": "72f24dae-df06-494d-fc76-9f69ac2d4fe1"
   },
   "outputs": [
    {
     "data": {
      "text/plain": [
       "0       324.81\n",
       "1       315.88\n",
       "2       317.01\n",
       "3       306.11\n",
       "4       313.06\n",
       "         ...  \n",
       "1253    952.62\n",
       "1254    873.28\n",
       "1255    865.65\n",
       "1256    787.11\n",
       "1257    800.04\n",
       "Name: close, Length: 1258, dtype: float64"
      ]
     },
     "execution_count": 11,
     "metadata": {},
     "output_type": "execute_result"
    }
   ],
   "source": [
    "df1"
   ]
  },
  {
   "cell_type": "code",
   "execution_count": 12,
   "metadata": {
    "id": "YIMt0xjmycsm"
   },
   "outputs": [
    {
     "data": {
      "application/javascript": [
       "\n",
       "        if (window._pyforest_update_imports_cell) { window._pyforest_update_imports_cell('import numpy as np'); }\n",
       "    "
      ],
      "text/plain": [
       "<IPython.core.display.Javascript object>"
      ]
     },
     "metadata": {},
     "output_type": "display_data"
    }
   ],
   "source": [
    "from sklearn.preprocessing import MinMaxScaler\n",
    "scaler=MinMaxScaler(feature_range=(0,1))\n",
    "df1=scaler.fit_transform(np.array(df1).reshape(-1,1))"
   ]
  },
  {
   "cell_type": "code",
   "execution_count": 13,
   "metadata": {
    "colab": {
     "base_uri": "https://localhost:8080/"
    },
    "id": "R09U_z52zyBl",
    "outputId": "32159839-49bd-48b1-b568-ea346c33ef45"
   },
   "outputs": [
    {
     "data": {
      "text/plain": [
       "array([[0.07080368],\n",
       "       [0.06646826],\n",
       "       [0.06701687],\n",
       "       ...,\n",
       "       [0.33337541],\n",
       "       [0.29524512],\n",
       "       [0.30152249]])"
      ]
     },
     "execution_count": 13,
     "metadata": {},
     "output_type": "execute_result"
    }
   ],
   "source": [
    "df1"
   ]
  },
  {
   "cell_type": "code",
   "execution_count": 14,
   "metadata": {
    "colab": {
     "base_uri": "https://localhost:8080/"
    },
    "id": "l3GWtS920uqP",
    "outputId": "e8e4377e-cc8d-485c-bf49-9bc5cc2a5936"
   },
   "outputs": [
    {
     "data": {
      "text/plain": [
       "(1258, 1)"
      ]
     },
     "execution_count": 14,
     "metadata": {},
     "output_type": "execute_result"
    }
   ],
   "source": [
    "df1.shape"
   ]
  },
  {
   "cell_type": "code",
   "execution_count": 15,
   "metadata": {
    "id": "ij9T0eWE5IWp"
   },
   "outputs": [],
   "source": [
    "##splitting dataset into train and test split\n",
    "training_size=int(len(df1)*0.65)\n",
    "test_size=len(df1)-training_size\n",
    "train_data,test_data=df1[0:training_size,:],df1[training_size:len(df1),:1]"
   ]
  },
  {
   "cell_type": "code",
   "execution_count": 16,
   "metadata": {
    "id": "6zEALHag0w_M"
   },
   "outputs": [],
   "source": [
    "#splitting the data in to train and test\n",
    "#in timeseries data we use timestamps for splitting the train and test set and for predictions\n",
    "def create_dataset(dataset,time_step=1):\n",
    "  dataX,dataY=[],[]\n",
    "  for i in range(len(dataset)-time_step-1):\n",
    "    a=dataset[i:(i+time_step),0]   ###i=0, 0,1,2,3-----99   100 \n",
    "    dataX.append(a)\n",
    "    dataY.append(dataset[i+time_step,0])\n",
    "  return np.array(dataX),np.array(dataY)"
   ]
  },
  {
   "cell_type": "code",
   "execution_count": 17,
   "metadata": {
    "id": "LsaInkpg3WNH"
   },
   "outputs": [
    {
     "data": {
      "application/javascript": [
       "\n",
       "        if (window._pyforest_update_imports_cell) { window._pyforest_update_imports_cell('import numpy as np'); }\n",
       "    "
      ],
      "text/plain": [
       "<IPython.core.display.Javascript object>"
      ]
     },
     "metadata": {},
     "output_type": "display_data"
    },
    {
     "data": {
      "application/javascript": [
       "\n",
       "        if (window._pyforest_update_imports_cell) { window._pyforest_update_imports_cell('import numpy as np'); }\n",
       "    "
      ],
      "text/plain": [
       "<IPython.core.display.Javascript object>"
      ]
     },
     "metadata": {},
     "output_type": "display_data"
    },
    {
     "data": {
      "application/javascript": [
       "\n",
       "        if (window._pyforest_update_imports_cell) { window._pyforest_update_imports_cell('import numpy as np'); }\n",
       "    "
      ],
      "text/plain": [
       "<IPython.core.display.Javascript object>"
      ]
     },
     "metadata": {},
     "output_type": "display_data"
    },
    {
     "data": {
      "application/javascript": [
       "\n",
       "        if (window._pyforest_update_imports_cell) { window._pyforest_update_imports_cell('import numpy as np'); }\n",
       "    "
      ],
      "text/plain": [
       "<IPython.core.display.Javascript object>"
      ]
     },
     "metadata": {},
     "output_type": "display_data"
    }
   ],
   "source": [
    "# reshape in to X=t,t+1,t+2,t+3 Y=t+4\n",
    "time_step=100 #time_step is a hyperparameter\n",
    "X_train,y_train=create_dataset(train_data,time_step)\n",
    "X_test,y_test=create_dataset(test_data,time_step)"
   ]
  },
  {
   "cell_type": "code",
   "execution_count": 18,
   "metadata": {
    "colab": {
     "base_uri": "https://localhost:8080/"
    },
    "id": "prjOGErg45K9",
    "outputId": "6e55d814-fe34-4d40-efc1-38ca5b00b88d"
   },
   "outputs": [
    {
     "name": "stdout",
     "output_type": "stream",
     "text": [
      "[[0.07080368 0.06646826 0.06701687 ... 0.07871229 0.07892105 0.08213013]\n",
      " [0.06646826 0.06701687 0.06172504 ... 0.07892105 0.08213013 0.08546544]\n",
      " [0.06701687 0.06172504 0.06509919 ... 0.08213013 0.08546544 0.08562079]\n",
      " ...\n",
      " [0.17848994 0.12918855 0.12196934 ... 0.60772995 0.63406286 0.63503384]\n",
      " [0.12918855 0.12196934 0.08848032 ... 0.63406286 0.63503384 0.63407257]\n",
      " [0.12196934 0.08848032 0.12072649 ... 0.63503384 0.63407257 0.6362864 ]]\n"
     ]
    }
   ],
   "source": [
    "print(X_train)"
   ]
  },
  {
   "cell_type": "code",
   "execution_count": 19,
   "metadata": {
    "colab": {
     "base_uri": "https://localhost:8080/"
    },
    "id": "TcdFMkyn5h6c",
    "outputId": "fad96ab2-5a00-4650-e53f-99efa97ffd18"
   },
   "outputs": [
    {
     "data": {
      "text/plain": [
       "(716, 100)"
      ]
     },
     "execution_count": 19,
     "metadata": {},
     "output_type": "execute_result"
    }
   ],
   "source": [
    "X_train.shape"
   ]
  },
  {
   "cell_type": "code",
   "execution_count": 20,
   "metadata": {
    "id": "LgKhwLtI5lQM"
   },
   "outputs": [],
   "source": [
    "#before implementing any LSTM model we should reshape the X train in 3 dimensions\n",
    "# reshape input to be [samples, time steps, features] which is required for LSTM\n",
    "X_train =X_train.reshape(X_train.shape[0],X_train.shape[1] , 1)\n",
    "X_test = X_test.reshape(X_test.shape[0],X_test.shape[1] , 1)"
   ]
  },
  {
   "cell_type": "markdown",
   "metadata": {
    "id": "V5Z57rjg6Rfq"
   },
   "source": [
    "# LSTM MODEL"
   ]
  },
  {
   "cell_type": "code",
   "execution_count": 21,
   "metadata": {
    "id": "Clohk4Fi6I8R"
   },
   "outputs": [],
   "source": [
    "### Create the Stacked LSTM model\n",
    "from tensorflow.keras.models import Sequential\n",
    "from tensorflow.keras.layers import Dense\n",
    "from tensorflow.keras.layers import LSTM"
   ]
  },
  {
   "cell_type": "code",
   "execution_count": 22,
   "metadata": {
    "id": "L_8WH8-N6d91"
   },
   "outputs": [],
   "source": [
    "model=Sequential()\n",
    "model.add(LSTM(50,return_sequences=True,input_shape=(100,1)))\n",
    "model.add(LSTM(50,return_sequences=True))\n",
    "model.add(LSTM(50))\n",
    "model.add(Dense(1))\n",
    "model.compile(loss='mean_squared_error',optimizer='adam')"
   ]
  },
  {
   "cell_type": "code",
   "execution_count": 23,
   "metadata": {
    "colab": {
     "base_uri": "https://localhost:8080/"
    },
    "id": "jrriQ8Xi6pc1",
    "outputId": "8dd04b82-6f16-4100-b9a3-8f37da56043a"
   },
   "outputs": [
    {
     "name": "stdout",
     "output_type": "stream",
     "text": [
      "Model: \"sequential\"\n",
      "_________________________________________________________________\n",
      " Layer (type)                Output Shape              Param #   \n",
      "=================================================================\n",
      " lstm (LSTM)                 (None, 100, 50)           10400     \n",
      "                                                                 \n",
      " lstm_1 (LSTM)               (None, 100, 50)           20200     \n",
      "                                                                 \n",
      " lstm_2 (LSTM)               (None, 50)                20200     \n",
      "                                                                 \n",
      " dense (Dense)               (None, 1)                 51        \n",
      "                                                                 \n",
      "=================================================================\n",
      "Total params: 50,851\n",
      "Trainable params: 50,851\n",
      "Non-trainable params: 0\n",
      "_________________________________________________________________\n"
     ]
    }
   ],
   "source": [
    "9model.summary()"
   ]
  },
  {
   "cell_type": "code",
   "execution_count": 41,
   "metadata": {
    "colab": {
     "base_uri": "https://localhost:8080/"
    },
    "id": "zN0sGFxQ6tOl",
    "outputId": "212c410b-a78c-46f2-a786-ec5dda1ca994"
   },
   "outputs": [
    {
     "name": "stdout",
     "output_type": "stream",
     "text": [
      "Epoch 1/100\n",
      "Epoch 2/100\n",
      "Epoch 3/100\n",
      "Epoch 4/100\n",
      "Epoch 5/100\n",
      "Epoch 6/100\n",
      "Epoch 7/100\n",
      "Epoch 8/100\n",
      "Epoch 9/100\n",
      "Epoch 10/100\n",
      "Epoch 11/100\n",
      "Epoch 12/100\n",
      "Epoch 13/100\n",
      "Epoch 14/100\n",
      "Epoch 15/100\n",
      "Epoch 16/100\n",
      "Epoch 17/100\n",
      "Epoch 18/100\n",
      "Epoch 19/100\n",
      "Epoch 20/100\n",
      "Epoch 21/100\n",
      "Epoch 22/100\n",
      "Epoch 23/100\n",
      "Epoch 24/100\n",
      "Epoch 25/100\n",
      "Epoch 26/100\n",
      "Epoch 27/100\n",
      "Epoch 28/100\n",
      "Epoch 29/100\n",
      "Epoch 30/100\n",
      "Epoch 31/100\n",
      "Epoch 32/100\n",
      "Epoch 33/100\n",
      "Epoch 34/100\n",
      "Epoch 35/100\n",
      "Epoch 36/100\n",
      "Epoch 37/100\n",
      "Epoch 38/100\n",
      "Epoch 39/100\n",
      "Epoch 40/100\n",
      "Epoch 41/100\n",
      "Epoch 42/100\n",
      "Epoch 43/100\n",
      "Epoch 44/100\n",
      "Epoch 45/100\n",
      "Epoch 46/100\n",
      "Epoch 47/100\n",
      "Epoch 48/100\n",
      "Epoch 49/100\n",
      "Epoch 50/100\n",
      "Epoch 51/100\n",
      "Epoch 52/100\n",
      "Epoch 53/100\n",
      "Epoch 54/100\n",
      "Epoch 55/100\n",
      "Epoch 56/100\n",
      "Epoch 57/100\n",
      "Epoch 58/100\n",
      "Epoch 59/100\n",
      "Epoch 60/100\n",
      "Epoch 61/100\n",
      "Epoch 62/100\n",
      "Epoch 63/100\n",
      "Epoch 64/100\n",
      "Epoch 65/100\n",
      "Epoch 66/100\n",
      "Epoch 67/100\n",
      "Epoch 68/100\n",
      "Epoch 69/100\n",
      "Epoch 70/100\n",
      "Epoch 71/100\n",
      "Epoch 72/100\n",
      "Epoch 73/100\n",
      "Epoch 74/100\n",
      "Epoch 75/100\n",
      "Epoch 76/100\n",
      "Epoch 77/100\n",
      "Epoch 78/100\n",
      "Epoch 79/100\n",
      "Epoch 80/100\n",
      "Epoch 81/100\n",
      "Epoch 82/100\n",
      "Epoch 83/100\n",
      "Epoch 84/100\n",
      "Epoch 85/100\n",
      "Epoch 86/100\n",
      "Epoch 87/100\n",
      "Epoch 88/100\n",
      "Epoch 89/100\n",
      "Epoch 90/100\n",
      "Epoch 91/100\n",
      "Epoch 92/100\n",
      "Epoch 93/100\n",
      "Epoch 94/100\n",
      "Epoch 95/100\n",
      "Epoch 96/100\n",
      "Epoch 97/100\n",
      "Epoch 98/100\n",
      "Epoch 99/100\n",
      "Epoch 100/100\n"
     ]
    },
    {
     "data": {
      "text/plain": [
       "<keras.callbacks.History at 0x1e2dd462e80>"
      ]
     },
     "execution_count": 41,
     "metadata": {},
     "output_type": "execute_result"
    }
   ],
   "source": [
    "model.fit(X_train,y_train,validation_data=(X_test,y_test),epochs=100,batch_size=64,verbose=-1)"
   ]
  },
  {
   "cell_type": "code",
   "execution_count": 42,
   "metadata": {
    "id": "e9a4rKar6wss"
   },
   "outputs": [],
   "source": [
    "### Lets Do the prediction and check performance metrics\n",
    "train_predict=model.predict(X_train)\n",
    "y_predict=model.predict(X_test)"
   ]
  },
  {
   "cell_type": "code",
   "execution_count": 43,
   "metadata": {},
   "outputs": [],
   "source": [
    "from sklearn.metrics import r2_score #r2=1-(sum of resudual/sum of mean) #where sum of mean>sum of residual #so we will get a small value #therefore 1- small value\n",
    "score=r2_score(y_test,y_predict)  "
   ]
  },
  {
   "cell_type": "code",
   "execution_count": 44,
   "metadata": {
    "id": "E3Ok4fUC7eXH"
   },
   "outputs": [],
   "source": [
    "##Transformback to original form to find the RMSE \n",
    "train_predict=scaler.inverse_transform(train_predict)\n",
    "test_predict=scaler.inverse_transform(test_predict)"
   ]
  },
  {
   "cell_type": "code",
   "execution_count": 45,
   "metadata": {},
   "outputs": [
    {
     "name": "stdout",
     "output_type": "stream",
     "text": [
      "0.9068623718517039\n"
     ]
    }
   ],
   "source": [
    "print(score)"
   ]
  },
  {
   "cell_type": "code",
   "execution_count": 44,
   "metadata": {
    "colab": {
     "base_uri": "https://localhost:8080/"
    },
    "id": "_FPcAVA17jkd",
    "outputId": "359721da-32cc-482f-94cc-b26a4dedc6f1"
   },
   "outputs": [
    {
     "data": {
      "text/plain": [
       "386.79239965817595"
      ]
     },
     "execution_count": 44,
     "metadata": {},
     "output_type": "execute_result"
    }
   ],
   "source": [
    "### Calculate RMSE performance metrics\n",
    "import math\n",
    "from sklearn.metrics import mean_squared_error\n",
    "math.sqrt(mean_squared_error(y_train,train_predict))"
   ]
  },
  {
   "cell_type": "code",
   "execution_count": 45,
   "metadata": {
    "colab": {
     "base_uri": "https://localhost:8080/"
    },
    "id": "LaNq5IMf7noy",
    "outputId": "ef8a75b5-11c9-4713-c781-4482f85e3e4f"
   },
   "outputs": [
    {
     "data": {
      "text/plain": [
       "757.6556245932518"
      ]
     },
     "execution_count": 45,
     "metadata": {},
     "output_type": "execute_result"
    }
   ],
   "source": [
    "### Test Data RMSE\n",
    "math.sqrt(mean_squared_error(y_test,test_predict))"
   ]
  },
  {
   "cell_type": "code",
   "execution_count": 48,
   "metadata": {
    "colab": {
     "base_uri": "https://localhost:8080/",
     "height": 265
    },
    "id": "6ZvC0_sP7rJv",
    "outputId": "9ba34d82-eaea-421f-b143-ec1f0c646348"
   },
   "outputs": [
    {
     "data": {
      "image/png": "[encoded data removed]",
      "text/plain": [
       "<Figure size 432x288 with 1 Axes>"
      ]
     },
     "metadata": {
      "needs_background": "light"
     },
     "output_type": "display_data"
    }
   ],
   "source": [
    "### Plotting \n",
    "# shift train predictions for plotting\n",
    "look_back=100\n",
    "trainPredictPlot = np.empty_like(df1)\n",
    "trainPredictPlot[:, :] = np.nan\n",
    "trainPredictPlot[look_back:len(train_predict)+look_back, :] = train_predict\n",
    "# shift test predictions for plotting\n",
    "testPredictPlot = np.empty_like(df1)\n",
    "testPredictPlot[:, :] = np.nan\n",
    "testPredictPlot[len(train_predict)+(look_back*2)+1:len(df1)-1, :] = test_predict\n",
    "# plot baseline and predictions\n",
    "plt.plot(scaler.inverse_transform(df1))\n",
    "plt.plot(trainPredictPlot)\n",
    "plt.plot(testPredictPlot)\n",
    "plt.show()"
   ]
  },
  {
   "cell_type": "code",
   "execution_count": 49,
   "metadata": {
    "colab": {
     "base_uri": "https://localhost:8080/"
    },
    "id": "GAIbDy8S7vKA",
    "outputId": "4b233bb8-084f-41cb-a399-b59f96def082"
   },
   "outputs": [
    {
     "data": {
      "text/plain": [
       "441"
      ]
     },
     "execution_count": 49,
     "metadata": {},
     "output_type": "execute_result"
    }
   ],
   "source": [
    "len(test_data)"
   ]
  },
  {
   "cell_type": "code",
   "execution_count": 50,
   "metadata": {
    "colab": {
     "base_uri": "https://localhost:8080/"
    },
    "id": "gWwwgW2-7yUm",
    "outputId": "dfdae369-5b59-4b5c-f472-c7f889881599"
   },
   "outputs": [
    {
     "data": {
      "text/plain": [
       "(1, 100)"
      ]
     },
     "execution_count": 50,
     "metadata": {},
     "output_type": "execute_result"
    }
   ],
   "source": [
    "x_input=test_data[341:].reshape(1,-1)\n",
    "x_input.shape"
   ]
  },
  {
   "cell_type": "code",
   "execution_count": 51,
   "metadata": {
    "id": "ruwIUOTo72YA"
   },
   "outputs": [],
   "source": [
    "temp_input=list(x_input)\n",
    "temp_input=temp_input[0].tolist()"
   ]
  },
  {
   "cell_type": "code",
   "execution_count": 52,
   "metadata": {
    "colab": {
     "base_uri": "https://localhost:8080/"
    },
    "id": "ORFsDMpr75pO",
    "outputId": "9736b768-4fc6-4177-bed1-92bbf7e50a6c"
   },
   "outputs": [
    {
     "data": {
      "text/plain": [
       "[0.2931283923525813,\n",
       " 0.29840080008544595,\n",
       " 0.2944586315043354,\n",
       " 0.29759003388711414,\n",
       " 0.30428006874520575,\n",
       " 0.306882288399732,\n",
       " 0.31039722688830845,\n",
       " 0.32239365369117085,\n",
       " 0.3355406888114264,\n",
       " 0.33270543456097246,\n",
       " 0.33344823233549203,\n",
       " 0.34713901484624565,\n",
       " 0.35475147831321785,\n",
       " 0.41067007156104035,\n",
       " 0.407548378953092,\n",
       " 0.41698142520074943,\n",
       " 0.4360028740933497,\n",
       " 0.4539465379797841,\n",
       " 0.4998689180397905,\n",
       " 0.4821048849877171,\n",
       " 0.5024274437075803,\n",
       " 0.5102195380089135,\n",
       " 0.5064230160502576,\n",
       " 0.4777063569895813,\n",
       " 0.41000980687257854,\n",
       " 0.43158978143296856,\n",
       " 0.4294342114206371,\n",
       " 0.4148258551884182,\n",
       " 0.40510151569585096,\n",
       " 0.4251716202701259,\n",
       " 0.44181417432929726,\n",
       " 0.4453922263542708,\n",
       " 0.46514190835914504,\n",
       " 0.47475944032857864,\n",
       " 0.4515336589344492,\n",
       " 0.45491751546281634,\n",
       " 0.4383720591519482,\n",
       " 0.4651079241472389,\n",
       " 0.4688801716688189,\n",
       " 0.4447222518909786,\n",
       " 0.43967316897921127,\n",
       " 0.40586858790744634,\n",
       " 0.4029750750080105,\n",
       " 0.42372486382040797,\n",
       " 0.43208012506189974,\n",
       " 0.40044567866471165,\n",
       " 0.40686869471496945,\n",
       " 0.3822932546194253,\n",
       " 0.3784578935614482,\n",
       " 0.3869442367631494,\n",
       " 0.3631213042169551,\n",
       " 0.36586431560652105,\n",
       " 0.3500228179708512,\n",
       " 0.36875782850595684,\n",
       " 0.40290710658419826,\n",
       " 0.4311285671285282,\n",
       " 0.4442076338249715,\n",
       " 0.4415520104088786,\n",
       " 0.4404450960782219,\n",
       " 0.43275009952519194,\n",
       " 0.42616687219023386,\n",
       " 0.4955917622270338,\n",
       " 0.47122508229034155,\n",
       " 0.44138208934934786,\n",
       " 0.43001194302304124,\n",
       " 0.41168959791822424,\n",
       " 0.4268174271038654,\n",
       " 0.4298662964005865,\n",
       " 0.45016943557078903,\n",
       " 0.41392284612919816,\n",
       " 0.42268591791356347,\n",
       " 0.4134130829506063,\n",
       " 0.3964889454213556,\n",
       " 0.39678994844109555,\n",
       " 0.37136490304789826,\n",
       " 0.3646166095408247,\n",
       " 0.3589849401392381,\n",
       " 0.36821408111545884,\n",
       " 0.3156307955218518,\n",
       " 0.32400547631300425,\n",
       " 0.3678790938838128,\n",
       " 0.3652234704677198,\n",
       " 0.35279981357232315,\n",
       " 0.34575051704550963,\n",
       " 0.3613735447474973,\n",
       " 0.3536154346580702,\n",
       " 0.36073269960869603,\n",
       " 0.36558758702385685,\n",
       " 0.35226092106924034,\n",
       " 0.3306323976346988,\n",
       " 0.3382837002009923,\n",
       " 0.3609414597675479,\n",
       " 0.36140752895940337,\n",
       " 0.3385701385584868,\n",
       " 0.3291662216353202,\n",
       " 0.31195564574857504,\n",
       " 0.2840448979988153,\n",
       " 0.30187689947470114,\n",
       " 0.3062948470224975,\n",
       " 0.33569604520871155]"
      ]
     },
     "execution_count": 52,
     "metadata": {},
     "output_type": "execute_result"
    }
   ],
   "source": [
    "temp_input"
   ]
  },
  {
   "cell_type": "code",
   "execution_count": 53,
   "metadata": {
    "colab": {
     "base_uri": "https://localhost:8080/"
    },
    "id": "9flzM5J07_Ha",
    "outputId": "9ef3949a-6c63-433d-9e47-4d68ee25abe5"
   },
   "outputs": [
    {
     "name": "stdout",
     "output_type": "stream",
     "text": [
      "[0.32487214]\n",
      "101\n",
      "1 day input [0.2984008  0.29445863 0.29759003 0.30428007 0.30688229 0.31039723\n",
      " 0.32239365 0.33554069 0.33270543 0.33344823 0.34713901 0.35475148\n",
      " 0.41067007 0.40754838 0.41698143 0.43600287 0.45394654 0.49986892\n",
      " 0.48210488 0.50242744 0.51021954 0.50642302 0.47770636 0.41000981\n",
      " 0.43158978 0.42943421 0.41482586 0.40510152 0.42517162 0.44181417\n",
      " 0.44539223 0.46514191 0.47475944 0.45153366 0.45491752 0.43837206\n",
      " 0.46510792 0.46888017 0.44472225 0.43967317 0.40586859 0.40297508\n",
      " 0.42372486 0.43208013 0.40044568 0.40686869 0.38229325 0.37845789\n",
      " 0.38694424 0.3631213  0.36586432 0.35002282 0.36875783 0.40290711\n",
      " 0.43112857 0.44420763 0.44155201 0.4404451  0.4327501  0.42616687\n",
      " 0.49559176 0.47122508 0.44138209 0.43001194 0.4116896  0.42681743\n",
      " 0.4298663  0.45016944 0.41392285 0.42268592 0.41341308 0.39648895\n",
      " 0.39678995 0.3713649  0.36461661 0.35898494 0.36821408 0.3156308\n",
      " 0.32400548 0.36787909 0.36522347 0.35279981 0.34575052 0.36137354\n",
      " 0.35361543 0.3607327  0.36558759 0.35226092 0.3306324  0.3382837\n",
      " 0.36094146 0.36140753 0.33857014 0.32916622 0.31195565 0.2840449\n",
      " 0.3018769  0.30629485 0.33569605 0.32487214]\n",
      "1 day output [[0.33137977]]\n",
      "2 day input [0.29445863 0.29759003 0.30428007 0.30688229 0.31039723 0.32239365\n",
      " 0.33554069 0.33270543 0.33344823 0.34713901 0.35475148 0.41067007\n",
      " 0.40754838 0.41698143 0.43600287 0.45394654 0.49986892 0.48210488\n",
      " 0.50242744 0.51021954 0.50642302 0.47770636 0.41000981 0.43158978\n",
      " 0.42943421 0.41482586 0.40510152 0.42517162 0.44181417 0.44539223\n",
      " 0.46514191 0.47475944 0.45153366 0.45491752 0.43837206 0.46510792\n",
      " 0.46888017 0.44472225 0.43967317 0.40586859 0.40297508 0.42372486\n",
      " 0.43208013 0.40044568 0.40686869 0.38229325 0.37845789 0.38694424\n",
      " 0.3631213  0.36586432 0.35002282 0.36875783 0.40290711 0.43112857\n",
      " 0.44420763 0.44155201 0.4404451  0.4327501  0.42616687 0.49559176\n",
      " 0.47122508 0.44138209 0.43001194 0.4116896  0.42681743 0.4298663\n",
      " 0.45016944 0.41392285 0.42268592 0.41341308 0.39648895 0.39678995\n",
      " 0.3713649  0.36461661 0.35898494 0.36821408 0.3156308  0.32400548\n",
      " 0.36787909 0.36522347 0.35279981 0.34575052 0.36137354 0.35361543\n",
      " 0.3607327  0.36558759 0.35226092 0.3306324  0.3382837  0.36094146\n",
      " 0.36140753 0.33857014 0.32916622 0.31195565 0.2840449  0.3018769\n",
      " 0.30629485 0.33569605 0.32487214 0.33137977]\n",
      "2 day output [[0.33737355]]\n",
      "3 day input [0.29759003 0.30428007 0.30688229 0.31039723 0.32239365 0.33554069\n",
      " 0.33270543 0.33344823 0.34713901 0.35475148 0.41067007 0.40754838\n",
      " 0.41698143 0.43600287 0.45394654 0.49986892 0.48210488 0.50242744\n",
      " 0.51021954 0.50642302 0.47770636 0.41000981 0.43158978 0.42943421\n",
      " 0.41482586 0.40510152 0.42517162 0.44181417 0.44539223 0.46514191\n",
      " 0.47475944 0.45153366 0.45491752 0.43837206 0.46510792 0.46888017\n",
      " 0.44472225 0.43967317 0.40586859 0.40297508 0.42372486 0.43208013\n",
      " 0.40044568 0.40686869 0.38229325 0.37845789 0.38694424 0.3631213\n",
      " 0.36586432 0.35002282 0.36875783 0.40290711 0.43112857 0.44420763\n",
      " 0.44155201 0.4404451  0.4327501  0.42616687 0.49559176 0.47122508\n",
      " 0.44138209 0.43001194 0.4116896  0.42681743 0.4298663  0.45016944\n",
      " 0.41392285 0.42268592 0.41341308 0.39648895 0.39678995 0.3713649\n",
      " 0.36461661 0.35898494 0.36821408 0.3156308  0.32400548 0.36787909\n",
      " 0.36522347 0.35279981 0.34575052 0.36137354 0.35361543 0.3607327\n",
      " 0.36558759 0.35226092 0.3306324  0.3382837  0.36094146 0.36140753\n",
      " 0.33857014 0.32916622 0.31195565 0.2840449  0.3018769  0.30629485\n",
      " 0.33569605 0.32487214 0.33137977 0.33737355]\n",
      "3 day output [[0.3431249]]\n",
      "4 day input [0.30428007 0.30688229 0.31039723 0.32239365 0.33554069 0.33270543\n",
      " 0.33344823 0.34713901 0.35475148 0.41067007 0.40754838 0.41698143\n",
      " 0.43600287 0.45394654 0.49986892 0.48210488 0.50242744 0.51021954\n",
      " 0.50642302 0.47770636 0.41000981 0.43158978 0.42943421 0.41482586\n",
      " 0.40510152 0.42517162 0.44181417 0.44539223 0.46514191 0.47475944\n",
      " 0.45153366 0.45491752 0.43837206 0.46510792 0.46888017 0.44472225\n",
      " 0.43967317 0.40586859 0.40297508 0.42372486 0.43208013 0.40044568\n",
      " 0.40686869 0.38229325 0.37845789 0.38694424 0.3631213  0.36586432\n",
      " 0.35002282 0.36875783 0.40290711 0.43112857 0.44420763 0.44155201\n",
      " 0.4404451  0.4327501  0.42616687 0.49559176 0.47122508 0.44138209\n",
      " 0.43001194 0.4116896  0.42681743 0.4298663  0.45016944 0.41392285\n",
      " 0.42268592 0.41341308 0.39648895 0.39678995 0.3713649  0.36461661\n",
      " 0.35898494 0.36821408 0.3156308  0.32400548 0.36787909 0.36522347\n",
      " 0.35279981 0.34575052 0.36137354 0.35361543 0.3607327  0.36558759\n",
      " 0.35226092 0.3306324  0.3382837  0.36094146 0.36140753 0.33857014\n",
      " 0.32916622 0.31195565 0.2840449  0.3018769  0.30629485 0.33569605\n",
      " 0.32487214 0.33137977 0.33737355 0.3431249 ]\n",
      "4 day output [[0.348798]]\n",
      "5 day input [0.30688229 0.31039723 0.32239365 0.33554069 0.33270543 0.33344823\n",
      " 0.34713901 0.35475148 0.41067007 0.40754838 0.41698143 0.43600287\n",
      " 0.45394654 0.49986892 0.48210488 0.50242744 0.51021954 0.50642302\n",
      " 0.47770636 0.41000981 0.43158978 0.42943421 0.41482586 0.40510152\n",
      " 0.42517162 0.44181417 0.44539223 0.46514191 0.47475944 0.45153366\n",
      " 0.45491752 0.43837206 0.46510792 0.46888017 0.44472225 0.43967317\n",
      " 0.40586859 0.40297508 0.42372486 0.43208013 0.40044568 0.40686869\n",
      " 0.38229325 0.37845789 0.38694424 0.3631213  0.36586432 0.35002282\n",
      " 0.36875783 0.40290711 0.43112857 0.44420763 0.44155201 0.4404451\n",
      " 0.4327501  0.42616687 0.49559176 0.47122508 0.44138209 0.43001194\n",
      " 0.4116896  0.42681743 0.4298663  0.45016944 0.41392285 0.42268592\n",
      " 0.41341308 0.39648895 0.39678995 0.3713649  0.36461661 0.35898494\n",
      " 0.36821408 0.3156308  0.32400548 0.36787909 0.36522347 0.35279981\n",
      " 0.34575052 0.36137354 0.35361543 0.3607327  0.36558759 0.35226092\n",
      " 0.3306324  0.3382837  0.36094146 0.36140753 0.33857014 0.32916622\n",
      " 0.31195565 0.2840449  0.3018769  0.30629485 0.33569605 0.32487214\n",
      " 0.33137977 0.33737355 0.3431249  0.34879801]\n",
      "5 day output [[0.3544522]]\n",
      "6 day input [0.31039723 0.32239365 0.33554069 0.33270543 0.33344823 0.34713901\n",
      " 0.35475148 0.41067007 0.40754838 0.41698143 0.43600287 0.45394654\n",
      " 0.49986892 0.48210488 0.50242744 0.51021954 0.50642302 0.47770636\n",
      " 0.41000981 0.43158978 0.42943421 0.41482586 0.40510152 0.42517162\n",
      " 0.44181417 0.44539223 0.46514191 0.47475944 0.45153366 0.45491752\n",
      " 0.43837206 0.46510792 0.46888017 0.44472225 0.43967317 0.40586859\n",
      " 0.40297508 0.42372486 0.43208013 0.40044568 0.40686869 0.38229325\n",
      " 0.37845789 0.38694424 0.3631213  0.36586432 0.35002282 0.36875783\n",
      " 0.40290711 0.43112857 0.44420763 0.44155201 0.4404451  0.4327501\n",
      " 0.42616687 0.49559176 0.47122508 0.44138209 0.43001194 0.4116896\n",
      " 0.42681743 0.4298663  0.45016944 0.41392285 0.42268592 0.41341308\n",
      " 0.39648895 0.39678995 0.3713649  0.36461661 0.35898494 0.36821408\n",
      " 0.3156308  0.32400548 0.36787909 0.36522347 0.35279981 0.34575052\n",
      " 0.36137354 0.35361543 0.3607327  0.36558759 0.35226092 0.3306324\n",
      " 0.3382837  0.36094146 0.36140753 0.33857014 0.32916622 0.31195565\n",
      " 0.2840449  0.3018769  0.30629485 0.33569605 0.32487214 0.33137977\n",
      " 0.33737355 0.3431249  0.34879801 0.35445219]\n",
      "6 day output [[0.3600888]]\n",
      "7 day input [0.32239365 0.33554069 0.33270543 0.33344823 0.34713901 0.35475148\n",
      " 0.41067007 0.40754838 0.41698143 0.43600287 0.45394654 0.49986892\n",
      " 0.48210488 0.50242744 0.51021954 0.50642302 0.47770636 0.41000981\n",
      " 0.43158978 0.42943421 0.41482586 0.40510152 0.42517162 0.44181417\n",
      " 0.44539223 0.46514191 0.47475944 0.45153366 0.45491752 0.43837206\n",
      " 0.46510792 0.46888017 0.44472225 0.43967317 0.40586859 0.40297508\n",
      " 0.42372486 0.43208013 0.40044568 0.40686869 0.38229325 0.37845789\n",
      " 0.38694424 0.3631213  0.36586432 0.35002282 0.36875783 0.40290711\n",
      " 0.43112857 0.44420763 0.44155201 0.4404451  0.4327501  0.42616687\n",
      " 0.49559176 0.47122508 0.44138209 0.43001194 0.4116896  0.42681743\n",
      " 0.4298663  0.45016944 0.41392285 0.42268592 0.41341308 0.39648895\n",
      " 0.39678995 0.3713649  0.36461661 0.35898494 0.36821408 0.3156308\n",
      " 0.32400548 0.36787909 0.36522347 0.35279981 0.34575052 0.36137354\n",
      " 0.35361543 0.3607327  0.36558759 0.35226092 0.3306324  0.3382837\n",
      " 0.36094146 0.36140753 0.33857014 0.32916622 0.31195565 0.2840449\n",
      " 0.3018769  0.30629485 0.33569605 0.32487214 0.33137977 0.33737355\n",
      " 0.3431249  0.34879801 0.35445219 0.3600888 ]\n",
      "7 day output [[0.36567175]]\n",
      "8 day input [0.33554069 0.33270543 0.33344823 0.34713901 0.35475148 0.41067007\n",
      " 0.40754838 0.41698143 0.43600287 0.45394654 0.49986892 0.48210488\n",
      " 0.50242744 0.51021954 0.50642302 0.47770636 0.41000981 0.43158978\n",
      " 0.42943421 0.41482586 0.40510152 0.42517162 0.44181417 0.44539223\n",
      " 0.46514191 0.47475944 0.45153366 0.45491752 0.43837206 0.46510792\n",
      " 0.46888017 0.44472225 0.43967317 0.40586859 0.40297508 0.42372486\n",
      " 0.43208013 0.40044568 0.40686869 0.38229325 0.37845789 0.38694424\n",
      " 0.3631213  0.36586432 0.35002282 0.36875783 0.40290711 0.43112857\n",
      " 0.44420763 0.44155201 0.4404451  0.4327501  0.42616687 0.49559176\n",
      " 0.47122508 0.44138209 0.43001194 0.4116896  0.42681743 0.4298663\n",
      " 0.45016944 0.41392285 0.42268592 0.41341308 0.39648895 0.39678995\n",
      " 0.3713649  0.36461661 0.35898494 0.36821408 0.3156308  0.32400548\n",
      " 0.36787909 0.36522347 0.35279981 0.34575052 0.36137354 0.35361543\n",
      " 0.3607327  0.36558759 0.35226092 0.3306324  0.3382837  0.36094146\n",
      " 0.36140753 0.33857014 0.32916622 0.31195565 0.2840449  0.3018769\n",
      " 0.30629485 0.33569605 0.32487214 0.33137977 0.33737355 0.3431249\n",
      " 0.34879801 0.35445219 0.3600888  0.36567175]\n",
      "8 day output [[0.37113202]]\n",
      "9 day input [0.33270543 0.33344823 0.34713901 0.35475148 0.41067007 0.40754838\n",
      " 0.41698143 0.43600287 0.45394654 0.49986892 0.48210488 0.50242744\n",
      " 0.51021954 0.50642302 0.47770636 0.41000981 0.43158978 0.42943421\n",
      " 0.41482586 0.40510152 0.42517162 0.44181417 0.44539223 0.46514191\n",
      " 0.47475944 0.45153366 0.45491752 0.43837206 0.46510792 0.46888017\n",
      " 0.44472225 0.43967317 0.40586859 0.40297508 0.42372486 0.43208013\n",
      " 0.40044568 0.40686869 0.38229325 0.37845789 0.38694424 0.3631213\n",
      " 0.36586432 0.35002282 0.36875783 0.40290711 0.43112857 0.44420763\n",
      " 0.44155201 0.4404451  0.4327501  0.42616687 0.49559176 0.47122508\n",
      " 0.44138209 0.43001194 0.4116896  0.42681743 0.4298663  0.45016944\n",
      " 0.41392285 0.42268592 0.41341308 0.39648895 0.39678995 0.3713649\n",
      " 0.36461661 0.35898494 0.36821408 0.3156308  0.32400548 0.36787909\n",
      " 0.36522347 0.35279981 0.34575052 0.36137354 0.35361543 0.3607327\n",
      " 0.36558759 0.35226092 0.3306324  0.3382837  0.36094146 0.36140753\n",
      " 0.33857014 0.32916622 0.31195565 0.2840449  0.3018769  0.30629485\n",
      " 0.33569605 0.32487214 0.33137977 0.33737355 0.3431249  0.34879801\n",
      " 0.35445219 0.3600888  0.36567175 0.37113202]\n",
      "9 day output [[0.37636995]]\n",
      "10 day input [0.33344823 0.34713901 0.35475148 0.41067007 0.40754838 0.41698143\n",
      " 0.43600287 0.45394654 0.49986892 0.48210488 0.50242744 0.51021954\n",
      " 0.50642302 0.47770636 0.41000981 0.43158978 0.42943421 0.41482586\n",
      " 0.40510152 0.42517162 0.44181417 0.44539223 0.46514191 0.47475944\n",
      " 0.45153366 0.45491752 0.43837206 0.46510792 0.46888017 0.44472225\n",
      " 0.43967317 0.40586859 0.40297508 0.42372486 0.43208013 0.40044568\n",
      " 0.40686869 0.38229325 0.37845789 0.38694424 0.3631213  0.36586432\n",
      " 0.35002282 0.36875783 0.40290711 0.43112857 0.44420763 0.44155201\n",
      " 0.4404451  0.4327501  0.42616687 0.49559176 0.47122508 0.44138209\n",
      " 0.43001194 0.4116896  0.42681743 0.4298663  0.45016944 0.41392285\n",
      " 0.42268592 0.41341308 0.39648895 0.39678995 0.3713649  0.36461661\n",
      " 0.35898494 0.36821408 0.3156308  0.32400548 0.36787909 0.36522347\n",
      " 0.35279981 0.34575052 0.36137354 0.35361543 0.3607327  0.36558759\n",
      " 0.35226092 0.3306324  0.3382837  0.36094146 0.36140753 0.33857014\n",
      " 0.32916622 0.31195565 0.2840449  0.3018769  0.30629485 0.33569605\n",
      " 0.32487214 0.33137977 0.33737355 0.3431249  0.34879801 0.35445219\n",
      " 0.3600888  0.36567175 0.37113202 0.37636995]\n",
      "10 day output [[0.38125685]]\n",
      "11 day input [0.34713901 0.35475148 0.41067007 0.40754838 0.41698143 0.43600287\n",
      " 0.45394654 0.49986892 0.48210488 0.50242744 0.51021954 0.50642302\n",
      " 0.47770636 0.41000981 0.43158978 0.42943421 0.41482586 0.40510152\n",
      " 0.42517162 0.44181417 0.44539223 0.46514191 0.47475944 0.45153366\n",
      " 0.45491752 0.43837206 0.46510792 0.46888017 0.44472225 0.43967317\n",
      " 0.40586859 0.40297508 0.42372486 0.43208013 0.40044568 0.40686869\n",
      " 0.38229325 0.37845789 0.38694424 0.3631213  0.36586432 0.35002282\n",
      " 0.36875783 0.40290711 0.43112857 0.44420763 0.44155201 0.4404451\n",
      " 0.4327501  0.42616687 0.49559176 0.47122508 0.44138209 0.43001194\n",
      " 0.4116896  0.42681743 0.4298663  0.45016944 0.41392285 0.42268592\n",
      " 0.41341308 0.39648895 0.39678995 0.3713649  0.36461661 0.35898494\n",
      " 0.36821408 0.3156308  0.32400548 0.36787909 0.36522347 0.35279981\n",
      " 0.34575052 0.36137354 0.35361543 0.3607327  0.36558759 0.35226092\n",
      " 0.3306324  0.3382837  0.36094146 0.36140753 0.33857014 0.32916622\n",
      " 0.31195565 0.2840449  0.3018769  0.30629485 0.33569605 0.32487214\n",
      " 0.33137977 0.33737355 0.3431249  0.34879801 0.35445219 0.3600888\n",
      " 0.36567175 0.37113202 0.37636995 0.38125685]\n",
      "11 day output [[0.3856359]]\n",
      "12 day input [0.35475148 0.41067007 0.40754838 0.41698143 0.43600287 0.45394654\n",
      " 0.49986892 0.48210488 0.50242744 0.51021954 0.50642302 0.47770636\n",
      " 0.41000981 0.43158978 0.42943421 0.41482586 0.40510152 0.42517162\n",
      " 0.44181417 0.44539223 0.46514191 0.47475944 0.45153366 0.45491752\n",
      " 0.43837206 0.46510792 0.46888017 0.44472225 0.43967317 0.40586859\n",
      " 0.40297508 0.42372486 0.43208013 0.40044568 0.40686869 0.38229325\n",
      " 0.37845789 0.38694424 0.3631213  0.36586432 0.35002282 0.36875783\n",
      " 0.40290711 0.43112857 0.44420763 0.44155201 0.4404451  0.4327501\n",
      " 0.42616687 0.49559176 0.47122508 0.44138209 0.43001194 0.4116896\n",
      " 0.42681743 0.4298663  0.45016944 0.41392285 0.42268592 0.41341308\n",
      " 0.39648895 0.39678995 0.3713649  0.36461661 0.35898494 0.36821408\n",
      " 0.3156308  0.32400548 0.36787909 0.36522347 0.35279981 0.34575052\n",
      " 0.36137354 0.35361543 0.3607327  0.36558759 0.35226092 0.3306324\n",
      " 0.3382837  0.36094146 0.36140753 0.33857014 0.32916622 0.31195565\n",
      " 0.2840449  0.3018769  0.30629485 0.33569605 0.32487214 0.33137977\n",
      " 0.33737355 0.3431249  0.34879801 0.35445219 0.3600888  0.36567175\n",
      " 0.37113202 0.37636995 0.38125685 0.38563591]\n",
      "12 day output [[0.38932925]]\n",
      "13 day input [0.41067007 0.40754838 0.41698143 0.43600287 0.45394654 0.49986892\n",
      " 0.48210488 0.50242744 0.51021954 0.50642302 0.47770636 0.41000981\n",
      " 0.43158978 0.42943421 0.41482586 0.40510152 0.42517162 0.44181417\n",
      " 0.44539223 0.46514191 0.47475944 0.45153366 0.45491752 0.43837206\n",
      " 0.46510792 0.46888017 0.44472225 0.43967317 0.40586859 0.40297508\n",
      " 0.42372486 0.43208013 0.40044568 0.40686869 0.38229325 0.37845789\n",
      " 0.38694424 0.3631213  0.36586432 0.35002282 0.36875783 0.40290711\n",
      " 0.43112857 0.44420763 0.44155201 0.4404451  0.4327501  0.42616687\n",
      " 0.49559176 0.47122508 0.44138209 0.43001194 0.4116896  0.42681743\n",
      " 0.4298663  0.45016944 0.41392285 0.42268592 0.41341308 0.39648895\n",
      " 0.39678995 0.3713649  0.36461661 0.35898494 0.36821408 0.3156308\n",
      " 0.32400548 0.36787909 0.36522347 0.35279981 0.34575052 0.36137354\n",
      " 0.35361543 0.3607327  0.36558759 0.35226092 0.3306324  0.3382837\n",
      " 0.36094146 0.36140753 0.33857014 0.32916622 0.31195565 0.2840449\n",
      " 0.3018769  0.30629485 0.33569605 0.32487214 0.33137977 0.33737355\n",
      " 0.3431249  0.34879801 0.35445219 0.3600888  0.36567175 0.37113202\n",
      " 0.37636995 0.38125685 0.38563591 0.38932925]\n",
      "13 day output [[0.39214703]]\n",
      "14 day input [0.40754838 0.41698143 0.43600287 0.45394654 0.49986892 0.48210488\n",
      " 0.50242744 0.51021954 0.50642302 0.47770636 0.41000981 0.43158978\n",
      " 0.42943421 0.41482586 0.40510152 0.42517162 0.44181417 0.44539223\n",
      " 0.46514191 0.47475944 0.45153366 0.45491752 0.43837206 0.46510792\n",
      " 0.46888017 0.44472225 0.43967317 0.40586859 0.40297508 0.42372486\n",
      " 0.43208013 0.40044568 0.40686869 0.38229325 0.37845789 0.38694424\n",
      " 0.3631213  0.36586432 0.35002282 0.36875783 0.40290711 0.43112857\n",
      " 0.44420763 0.44155201 0.4404451  0.4327501  0.42616687 0.49559176\n",
      " 0.47122508 0.44138209 0.43001194 0.4116896  0.42681743 0.4298663\n",
      " 0.45016944 0.41392285 0.42268592 0.41341308 0.39648895 0.39678995\n",
      " 0.3713649  0.36461661 0.35898494 0.36821408 0.3156308  0.32400548\n",
      " 0.36787909 0.36522347 0.35279981 0.34575052 0.36137354 0.35361543\n",
      " 0.3607327  0.36558759 0.35226092 0.3306324  0.3382837  0.36094146\n",
      " 0.36140753 0.33857014 0.32916622 0.31195565 0.2840449  0.3018769\n",
      " 0.30629485 0.33569605 0.32487214 0.33137977 0.33737355 0.3431249\n",
      " 0.34879801 0.35445219 0.3600888  0.36567175 0.37113202 0.37636995\n",
      " 0.38125685 0.38563591 0.38932925 0.39214703]\n",
      "14 day output [[0.3938935]]\n",
      "15 day input [0.41698143 0.43600287 0.45394654 0.49986892 0.48210488 0.50242744\n",
      " 0.51021954 0.50642302 0.47770636 0.41000981 0.43158978 0.42943421\n",
      " 0.41482586 0.40510152 0.42517162 0.44181417 0.44539223 0.46514191\n",
      " 0.47475944 0.45153366 0.45491752 0.43837206 0.46510792 0.46888017\n",
      " 0.44472225 0.43967317 0.40586859 0.40297508 0.42372486 0.43208013\n",
      " 0.40044568 0.40686869 0.38229325 0.37845789 0.38694424 0.3631213\n",
      " 0.36586432 0.35002282 0.36875783 0.40290711 0.43112857 0.44420763\n",
      " 0.44155201 0.4404451  0.4327501  0.42616687 0.49559176 0.47122508\n",
      " 0.44138209 0.43001194 0.4116896  0.42681743 0.4298663  0.45016944\n",
      " 0.41392285 0.42268592 0.41341308 0.39648895 0.39678995 0.3713649\n",
      " 0.36461661 0.35898494 0.36821408 0.3156308  0.32400548 0.36787909\n",
      " 0.36522347 0.35279981 0.34575052 0.36137354 0.35361543 0.3607327\n",
      " 0.36558759 0.35226092 0.3306324  0.3382837  0.36094146 0.36140753\n",
      " 0.33857014 0.32916622 0.31195565 0.2840449  0.3018769  0.30629485\n",
      " 0.33569605 0.32487214 0.33137977 0.33737355 0.3431249  0.34879801\n",
      " 0.35445219 0.3600888  0.36567175 0.37113202 0.37636995 0.38125685\n",
      " 0.38563591 0.38932925 0.39214703 0.39389351]\n",
      "15 day output [[0.3943823]]\n",
      "16 day input [0.43600287 0.45394654 0.49986892 0.48210488 0.50242744 0.51021954\n",
      " 0.50642302 0.47770636 0.41000981 0.43158978 0.42943421 0.41482586\n",
      " 0.40510152 0.42517162 0.44181417 0.44539223 0.46514191 0.47475944\n",
      " 0.45153366 0.45491752 0.43837206 0.46510792 0.46888017 0.44472225\n",
      " 0.43967317 0.40586859 0.40297508 0.42372486 0.43208013 0.40044568\n",
      " 0.40686869 0.38229325 0.37845789 0.38694424 0.3631213  0.36586432\n",
      " 0.35002282 0.36875783 0.40290711 0.43112857 0.44420763 0.44155201\n",
      " 0.4404451  0.4327501  0.42616687 0.49559176 0.47122508 0.44138209\n",
      " 0.43001194 0.4116896  0.42681743 0.4298663  0.45016944 0.41392285\n",
      " 0.42268592 0.41341308 0.39648895 0.39678995 0.3713649  0.36461661\n",
      " 0.35898494 0.36821408 0.3156308  0.32400548 0.36787909 0.36522347\n",
      " 0.35279981 0.34575052 0.36137354 0.35361543 0.3607327  0.36558759\n",
      " 0.35226092 0.3306324  0.3382837  0.36094146 0.36140753 0.33857014\n",
      " 0.32916622 0.31195565 0.2840449  0.3018769  0.30629485 0.33569605\n",
      " 0.32487214 0.33137977 0.33737355 0.3431249  0.34879801 0.35445219\n",
      " 0.3600888  0.36567175 0.37113202 0.37636995 0.38125685 0.38563591\n",
      " 0.38932925 0.39214703 0.39389351 0.3943823 ]\n",
      "16 day output [[0.3934389]]\n",
      "17 day input [0.45394654 0.49986892 0.48210488 0.50242744 0.51021954 0.50642302\n",
      " 0.47770636 0.41000981 0.43158978 0.42943421 0.41482586 0.40510152\n",
      " 0.42517162 0.44181417 0.44539223 0.46514191 0.47475944 0.45153366\n",
      " 0.45491752 0.43837206 0.46510792 0.46888017 0.44472225 0.43967317\n",
      " 0.40586859 0.40297508 0.42372486 0.43208013 0.40044568 0.40686869\n",
      " 0.38229325 0.37845789 0.38694424 0.3631213  0.36586432 0.35002282\n",
      " 0.36875783 0.40290711 0.43112857 0.44420763 0.44155201 0.4404451\n",
      " 0.4327501  0.42616687 0.49559176 0.47122508 0.44138209 0.43001194\n",
      " 0.4116896  0.42681743 0.4298663  0.45016944 0.41392285 0.42268592\n",
      " 0.41341308 0.39648895 0.39678995 0.3713649  0.36461661 0.35898494\n",
      " 0.36821408 0.3156308  0.32400548 0.36787909 0.36522347 0.35279981\n",
      " 0.34575052 0.36137354 0.35361543 0.3607327  0.36558759 0.35226092\n",
      " 0.3306324  0.3382837  0.36094146 0.36140753 0.33857014 0.32916622\n",
      " 0.31195565 0.2840449  0.3018769  0.30629485 0.33569605 0.32487214\n",
      " 0.33137977 0.33737355 0.3431249  0.34879801 0.35445219 0.3600888\n",
      " 0.36567175 0.37113202 0.37636995 0.38125685 0.38563591 0.38932925\n",
      " 0.39214703 0.39389351 0.3943823  0.39343891]\n",
      "17 day output [[0.39091316]]\n",
      "18 day input [0.49986892 0.48210488 0.50242744 0.51021954 0.50642302 0.47770636\n",
      " 0.41000981 0.43158978 0.42943421 0.41482586 0.40510152 0.42517162\n",
      " 0.44181417 0.44539223 0.46514191 0.47475944 0.45153366 0.45491752\n",
      " 0.43837206 0.46510792 0.46888017 0.44472225 0.43967317 0.40586859\n",
      " 0.40297508 0.42372486 0.43208013 0.40044568 0.40686869 0.38229325\n",
      " 0.37845789 0.38694424 0.3631213  0.36586432 0.35002282 0.36875783\n",
      " 0.40290711 0.43112857 0.44420763 0.44155201 0.4404451  0.4327501\n",
      " 0.42616687 0.49559176 0.47122508 0.44138209 0.43001194 0.4116896\n",
      " 0.42681743 0.4298663  0.45016944 0.41392285 0.42268592 0.41341308\n",
      " 0.39648895 0.39678995 0.3713649  0.36461661 0.35898494 0.36821408\n",
      " 0.3156308  0.32400548 0.36787909 0.36522347 0.35279981 0.34575052\n",
      " 0.36137354 0.35361543 0.3607327  0.36558759 0.35226092 0.3306324\n",
      " 0.3382837  0.36094146 0.36140753 0.33857014 0.32916622 0.31195565\n",
      " 0.2840449  0.3018769  0.30629485 0.33569605 0.32487214 0.33137977\n",
      " 0.33737355 0.3431249  0.34879801 0.35445219 0.3600888  0.36567175\n",
      " 0.37113202 0.37636995 0.38125685 0.38563591 0.38932925 0.39214703\n",
      " 0.39389351 0.3943823  0.39343891 0.39091316]\n",
      "18 day output [[0.38668507]]\n",
      "19 day input [0.48210488 0.50242744 0.51021954 0.50642302 0.47770636 0.41000981\n",
      " 0.43158978 0.42943421 0.41482586 0.40510152 0.42517162 0.44181417\n",
      " 0.44539223 0.46514191 0.47475944 0.45153366 0.45491752 0.43837206\n",
      " 0.46510792 0.46888017 0.44472225 0.43967317 0.40586859 0.40297508\n",
      " 0.42372486 0.43208013 0.40044568 0.40686869 0.38229325 0.37845789\n",
      " 0.38694424 0.3631213  0.36586432 0.35002282 0.36875783 0.40290711\n",
      " 0.43112857 0.44420763 0.44155201 0.4404451  0.4327501  0.42616687\n",
      " 0.49559176 0.47122508 0.44138209 0.43001194 0.4116896  0.42681743\n",
      " 0.4298663  0.45016944 0.41392285 0.42268592 0.41341308 0.39648895\n",
      " 0.39678995 0.3713649  0.36461661 0.35898494 0.36821408 0.3156308\n",
      " 0.32400548 0.36787909 0.36522347 0.35279981 0.34575052 0.36137354\n",
      " 0.35361543 0.3607327  0.36558759 0.35226092 0.3306324  0.3382837\n",
      " 0.36094146 0.36140753 0.33857014 0.32916622 0.31195565 0.2840449\n",
      " 0.3018769  0.30629485 0.33569605 0.32487214 0.33137977 0.33737355\n",
      " 0.3431249  0.34879801 0.35445219 0.3600888  0.36567175 0.37113202\n",
      " 0.37636995 0.38125685 0.38563591 0.38932925 0.39214703 0.39389351\n",
      " 0.3943823  0.39343891 0.39091316 0.38668507]\n",
      "19 day output [[0.3806698]]\n",
      "20 day input [0.50242744 0.51021954 0.50642302 0.47770636 0.41000981 0.43158978\n",
      " 0.42943421 0.41482586 0.40510152 0.42517162 0.44181417 0.44539223\n",
      " 0.46514191 0.47475944 0.45153366 0.45491752 0.43837206 0.46510792\n",
      " 0.46888017 0.44472225 0.43967317 0.40586859 0.40297508 0.42372486\n",
      " 0.43208013 0.40044568 0.40686869 0.38229325 0.37845789 0.38694424\n",
      " 0.3631213  0.36586432 0.35002282 0.36875783 0.40290711 0.43112857\n",
      " 0.44420763 0.44155201 0.4404451  0.4327501  0.42616687 0.49559176\n",
      " 0.47122508 0.44138209 0.43001194 0.4116896  0.42681743 0.4298663\n",
      " 0.45016944 0.41392285 0.42268592 0.41341308 0.39648895 0.39678995\n",
      " 0.3713649  0.36461661 0.35898494 0.36821408 0.3156308  0.32400548\n",
      " 0.36787909 0.36522347 0.35279981 0.34575052 0.36137354 0.35361543\n",
      " 0.3607327  0.36558759 0.35226092 0.3306324  0.3382837  0.36094146\n",
      " 0.36140753 0.33857014 0.32916622 0.31195565 0.2840449  0.3018769\n",
      " 0.30629485 0.33569605 0.32487214 0.33137977 0.33737355 0.3431249\n",
      " 0.34879801 0.35445219 0.3600888  0.36567175 0.37113202 0.37636995\n",
      " 0.38125685 0.38563591 0.38932925 0.39214703 0.39389351 0.3943823\n",
      " 0.39343891 0.39091316 0.38668507 0.3806698 ]\n",
      "20 day output [[0.37281913]]\n",
      "21 day input [0.51021954 0.50642302 0.47770636 0.41000981 0.43158978 0.42943421\n",
      " 0.41482586 0.40510152 0.42517162 0.44181417 0.44539223 0.46514191\n",
      " 0.47475944 0.45153366 0.45491752 0.43837206 0.46510792 0.46888017\n",
      " 0.44472225 0.43967317 0.40586859 0.40297508 0.42372486 0.43208013\n",
      " 0.40044568 0.40686869 0.38229325 0.37845789 0.38694424 0.3631213\n",
      " 0.36586432 0.35002282 0.36875783 0.40290711 0.43112857 0.44420763\n",
      " 0.44155201 0.4404451  0.4327501  0.42616687 0.49559176 0.47122508\n",
      " 0.44138209 0.43001194 0.4116896  0.42681743 0.4298663  0.45016944\n",
      " 0.41392285 0.42268592 0.41341308 0.39648895 0.39678995 0.3713649\n",
      " 0.36461661 0.35898494 0.36821408 0.3156308  0.32400548 0.36787909\n",
      " 0.36522347 0.35279981 0.34575052 0.36137354 0.35361543 0.3607327\n",
      " 0.36558759 0.35226092 0.3306324  0.3382837  0.36094146 0.36140753\n",
      " 0.33857014 0.32916622 0.31195565 0.2840449  0.3018769  0.30629485\n",
      " 0.33569605 0.32487214 0.33137977 0.33737355 0.3431249  0.34879801\n",
      " 0.35445219 0.3600888  0.36567175 0.37113202 0.37636995 0.38125685\n",
      " 0.38563591 0.38932925 0.39214703 0.39389351 0.3943823  0.39343891\n",
      " 0.39091316 0.38668507 0.3806698  0.37281913]\n",
      "21 day output [[0.36312184]]\n",
      "22 day input [0.50642302 0.47770636 0.41000981 0.43158978 0.42943421 0.41482586\n",
      " 0.40510152 0.42517162 0.44181417 0.44539223 0.46514191 0.47475944\n",
      " 0.45153366 0.45491752 0.43837206 0.46510792 0.46888017 0.44472225\n",
      " 0.43967317 0.40586859 0.40297508 0.42372486 0.43208013 0.40044568\n",
      " 0.40686869 0.38229325 0.37845789 0.38694424 0.3631213  0.36586432\n",
      " 0.35002282 0.36875783 0.40290711 0.43112857 0.44420763 0.44155201\n",
      " 0.4404451  0.4327501  0.42616687 0.49559176 0.47122508 0.44138209\n",
      " 0.43001194 0.4116896  0.42681743 0.4298663  0.45016944 0.41392285\n",
      " 0.42268592 0.41341308 0.39648895 0.39678995 0.3713649  0.36461661\n",
      " 0.35898494 0.36821408 0.3156308  0.32400548 0.36787909 0.36522347\n",
      " 0.35279981 0.34575052 0.36137354 0.35361543 0.3607327  0.36558759\n",
      " 0.35226092 0.3306324  0.3382837  0.36094146 0.36140753 0.33857014\n",
      " 0.32916622 0.31195565 0.2840449  0.3018769  0.30629485 0.33569605\n",
      " 0.32487214 0.33137977 0.33737355 0.3431249  0.34879801 0.35445219\n",
      " 0.3600888  0.36567175 0.37113202 0.37636995 0.38125685 0.38563591\n",
      " 0.38932925 0.39214703 0.39389351 0.3943823  0.39343891 0.39091316\n",
      " 0.38668507 0.3806698  0.37281913 0.36312184]\n",
      "22 day output [[0.3516015]]\n",
      "23 day input [0.47770636 0.41000981 0.43158978 0.42943421 0.41482586 0.40510152\n",
      " 0.42517162 0.44181417 0.44539223 0.46514191 0.47475944 0.45153366\n",
      " 0.45491752 0.43837206 0.46510792 0.46888017 0.44472225 0.43967317\n",
      " 0.40586859 0.40297508 0.42372486 0.43208013 0.40044568 0.40686869\n",
      " 0.38229325 0.37845789 0.38694424 0.3631213  0.36586432 0.35002282\n",
      " 0.36875783 0.40290711 0.43112857 0.44420763 0.44155201 0.4404451\n",
      " 0.4327501  0.42616687 0.49559176 0.47122508 0.44138209 0.43001194\n",
      " 0.4116896  0.42681743 0.4298663  0.45016944 0.41392285 0.42268592\n",
      " 0.41341308 0.39648895 0.39678995 0.3713649  0.36461661 0.35898494\n",
      " 0.36821408 0.3156308  0.32400548 0.36787909 0.36522347 0.35279981\n",
      " 0.34575052 0.36137354 0.35361543 0.3607327  0.36558759 0.35226092\n",
      " 0.3306324  0.3382837  0.36094146 0.36140753 0.33857014 0.32916622\n",
      " 0.31195565 0.2840449  0.3018769  0.30629485 0.33569605 0.32487214\n",
      " 0.33137977 0.33737355 0.3431249  0.34879801 0.35445219 0.3600888\n",
      " 0.36567175 0.37113202 0.37636995 0.38125685 0.38563591 0.38932925\n",
      " 0.39214703 0.39389351 0.3943823  0.39343891 0.39091316 0.38668507\n",
      " 0.3806698  0.37281913 0.36312184 0.35160151]\n",
      "23 day output [[0.3383148]]\n",
      "24 day input [0.41000981 0.43158978 0.42943421 0.41482586 0.40510152 0.42517162\n",
      " 0.44181417 0.44539223 0.46514191 0.47475944 0.45153366 0.45491752\n",
      " 0.43837206 0.46510792 0.46888017 0.44472225 0.43967317 0.40586859\n",
      " 0.40297508 0.42372486 0.43208013 0.40044568 0.40686869 0.38229325\n",
      " 0.37845789 0.38694424 0.3631213  0.36586432 0.35002282 0.36875783\n",
      " 0.40290711 0.43112857 0.44420763 0.44155201 0.4404451  0.4327501\n",
      " 0.42616687 0.49559176 0.47122508 0.44138209 0.43001194 0.4116896\n",
      " 0.42681743 0.4298663  0.45016944 0.41392285 0.42268592 0.41341308\n",
      " 0.39648895 0.39678995 0.3713649  0.36461661 0.35898494 0.36821408\n",
      " 0.3156308  0.32400548 0.36787909 0.36522347 0.35279981 0.34575052\n",
      " 0.36137354 0.35361543 0.3607327  0.36558759 0.35226092 0.3306324\n",
      " 0.3382837  0.36094146 0.36140753 0.33857014 0.32916622 0.31195565\n",
      " 0.2840449  0.3018769  0.30629485 0.33569605 0.32487214 0.33137977\n",
      " 0.33737355 0.3431249  0.34879801 0.35445219 0.3600888  0.36567175\n",
      " 0.37113202 0.37636995 0.38125685 0.38563591 0.38932925 0.39214703\n",
      " 0.39389351 0.3943823  0.39343891 0.39091316 0.38668507 0.3806698\n",
      " 0.37281913 0.36312184 0.35160151 0.3383148 ]\n",
      "24 day output [[0.3233489]]\n",
      "25 day input [0.43158978 0.42943421 0.41482586 0.40510152 0.42517162 0.44181417\n",
      " 0.44539223 0.46514191 0.47475944 0.45153366 0.45491752 0.43837206\n",
      " 0.46510792 0.46888017 0.44472225 0.43967317 0.40586859 0.40297508\n",
      " 0.42372486 0.43208013 0.40044568 0.40686869 0.38229325 0.37845789\n",
      " 0.38694424 0.3631213  0.36586432 0.35002282 0.36875783 0.40290711\n",
      " 0.43112857 0.44420763 0.44155201 0.4404451  0.4327501  0.42616687\n",
      " 0.49559176 0.47122508 0.44138209 0.43001194 0.4116896  0.42681743\n",
      " 0.4298663  0.45016944 0.41392285 0.42268592 0.41341308 0.39648895\n",
      " 0.39678995 0.3713649  0.36461661 0.35898494 0.36821408 0.3156308\n",
      " 0.32400548 0.36787909 0.36522347 0.35279981 0.34575052 0.36137354\n",
      " 0.35361543 0.3607327  0.36558759 0.35226092 0.3306324  0.3382837\n",
      " 0.36094146 0.36140753 0.33857014 0.32916622 0.31195565 0.2840449\n",
      " 0.3018769  0.30629485 0.33569605 0.32487214 0.33137977 0.33737355\n",
      " 0.3431249  0.34879801 0.35445219 0.3600888  0.36567175 0.37113202\n",
      " 0.37636995 0.38125685 0.38563591 0.38932925 0.39214703 0.39389351\n",
      " 0.3943823  0.39343891 0.39091316 0.38668507 0.3806698  0.37281913\n",
      " 0.36312184 0.35160151 0.3383148  0.32334891]\n",
      "25 day output [[0.30682284]]\n",
      "26 day input [0.42943421 0.41482586 0.40510152 0.42517162 0.44181417 0.44539223\n",
      " 0.46514191 0.47475944 0.45153366 0.45491752 0.43837206 0.46510792\n",
      " 0.46888017 0.44472225 0.43967317 0.40586859 0.40297508 0.42372486\n",
      " 0.43208013 0.40044568 0.40686869 0.38229325 0.37845789 0.38694424\n",
      " 0.3631213  0.36586432 0.35002282 0.36875783 0.40290711 0.43112857\n",
      " 0.44420763 0.44155201 0.4404451  0.4327501  0.42616687 0.49559176\n",
      " 0.47122508 0.44138209 0.43001194 0.4116896  0.42681743 0.4298663\n",
      " 0.45016944 0.41392285 0.42268592 0.41341308 0.39648895 0.39678995\n",
      " 0.3713649  0.36461661 0.35898494 0.36821408 0.3156308  0.32400548\n",
      " 0.36787909 0.36522347 0.35279981 0.34575052 0.36137354 0.35361543\n",
      " 0.3607327  0.36558759 0.35226092 0.3306324  0.3382837  0.36094146\n",
      " 0.36140753 0.33857014 0.32916622 0.31195565 0.2840449  0.3018769\n",
      " 0.30629485 0.33569605 0.32487214 0.33137977 0.33737355 0.3431249\n",
      " 0.34879801 0.35445219 0.3600888  0.36567175 0.37113202 0.37636995\n",
      " 0.38125685 0.38563591 0.38932925 0.39214703 0.39389351 0.3943823\n",
      " 0.39343891 0.39091316 0.38668507 0.3806698  0.37281913 0.36312184\n",
      " 0.35160151 0.3383148  0.32334891 0.30682284]\n",
      "26 day output [[0.28889054]]\n",
      "27 day input [0.41482586 0.40510152 0.42517162 0.44181417 0.44539223 0.46514191\n",
      " 0.47475944 0.45153366 0.45491752 0.43837206 0.46510792 0.46888017\n",
      " 0.44472225 0.43967317 0.40586859 0.40297508 0.42372486 0.43208013\n",
      " 0.40044568 0.40686869 0.38229325 0.37845789 0.38694424 0.3631213\n",
      " 0.36586432 0.35002282 0.36875783 0.40290711 0.43112857 0.44420763\n",
      " 0.44155201 0.4404451  0.4327501  0.42616687 0.49559176 0.47122508\n",
      " 0.44138209 0.43001194 0.4116896  0.42681743 0.4298663  0.45016944\n",
      " 0.41392285 0.42268592 0.41341308 0.39648895 0.39678995 0.3713649\n",
      " 0.36461661 0.35898494 0.36821408 0.3156308  0.32400548 0.36787909\n",
      " 0.36522347 0.35279981 0.34575052 0.36137354 0.35361543 0.3607327\n",
      " 0.36558759 0.35226092 0.3306324  0.3382837  0.36094146 0.36140753\n",
      " 0.33857014 0.32916622 0.31195565 0.2840449  0.3018769  0.30629485\n",
      " 0.33569605 0.32487214 0.33137977 0.33737355 0.3431249  0.34879801\n",
      " 0.35445219 0.3600888  0.36567175 0.37113202 0.37636995 0.38125685\n",
      " 0.38563591 0.38932925 0.39214703 0.39389351 0.3943823  0.39343891\n",
      " 0.39091316 0.38668507 0.3806698  0.37281913 0.36312184 0.35160151\n",
      " 0.3383148  0.32334891 0.30682284 0.28889054]\n",
      "27 day output [[0.26975203]]\n",
      "28 day input [0.40510152 0.42517162 0.44181417 0.44539223 0.46514191 0.47475944\n",
      " 0.45153366 0.45491752 0.43837206 0.46510792 0.46888017 0.44472225\n",
      " 0.43967317 0.40586859 0.40297508 0.42372486 0.43208013 0.40044568\n",
      " 0.40686869 0.38229325 0.37845789 0.38694424 0.3631213  0.36586432\n",
      " 0.35002282 0.36875783 0.40290711 0.43112857 0.44420763 0.44155201\n",
      " 0.4404451  0.4327501  0.42616687 0.49559176 0.47122508 0.44138209\n",
      " 0.43001194 0.4116896  0.42681743 0.4298663  0.45016944 0.41392285\n",
      " 0.42268592 0.41341308 0.39648895 0.39678995 0.3713649  0.36461661\n",
      " 0.35898494 0.36821408 0.3156308  0.32400548 0.36787909 0.36522347\n",
      " 0.35279981 0.34575052 0.36137354 0.35361543 0.3607327  0.36558759\n",
      " 0.35226092 0.3306324  0.3382837  0.36094146 0.36140753 0.33857014\n",
      " 0.32916622 0.31195565 0.2840449  0.3018769  0.30629485 0.33569605\n",
      " 0.32487214 0.33137977 0.33737355 0.3431249  0.34879801 0.35445219\n",
      " 0.3600888  0.36567175 0.37113202 0.37636995 0.38125685 0.38563591\n",
      " 0.38932925 0.39214703 0.39389351 0.3943823  0.39343891 0.39091316\n",
      " 0.38668507 0.3806698  0.37281913 0.36312184 0.35160151 0.3383148\n",
      " 0.32334891 0.30682284 0.28889054 0.26975203]\n",
      "28 day output [[0.24966952]]\n",
      "29 day input [0.42517162 0.44181417 0.44539223 0.46514191 0.47475944 0.45153366\n",
      " 0.45491752 0.43837206 0.46510792 0.46888017 0.44472225 0.43967317\n",
      " 0.40586859 0.40297508 0.42372486 0.43208013 0.40044568 0.40686869\n",
      " 0.38229325 0.37845789 0.38694424 0.3631213  0.36586432 0.35002282\n",
      " 0.36875783 0.40290711 0.43112857 0.44420763 0.44155201 0.4404451\n",
      " 0.4327501  0.42616687 0.49559176 0.47122508 0.44138209 0.43001194\n",
      " 0.4116896  0.42681743 0.4298663  0.45016944 0.41392285 0.42268592\n",
      " 0.41341308 0.39648895 0.39678995 0.3713649  0.36461661 0.35898494\n",
      " 0.36821408 0.3156308  0.32400548 0.36787909 0.36522347 0.35279981\n",
      " 0.34575052 0.36137354 0.35361543 0.3607327  0.36558759 0.35226092\n",
      " 0.3306324  0.3382837  0.36094146 0.36140753 0.33857014 0.32916622\n",
      " 0.31195565 0.2840449  0.3018769  0.30629485 0.33569605 0.32487214\n",
      " 0.33137977 0.33737355 0.3431249  0.34879801 0.35445219 0.3600888\n",
      " 0.36567175 0.37113202 0.37636995 0.38125685 0.38563591 0.38932925\n",
      " 0.39214703 0.39389351 0.3943823  0.39343891 0.39091316 0.38668507\n",
      " 0.3806698  0.37281913 0.36312184 0.35160151 0.3383148  0.32334891\n",
      " 0.30682284 0.28889054 0.26975203 0.24966952]\n",
      "29 day output [[0.22899151]]\n",
      "[[0.32487213611602783], [0.331379771232605], [0.3373735547065735], [0.3431248962879181], [0.348798006772995], [0.3544521927833557], [0.3600887954235077], [0.3656717538833618], [0.3711320161819458], [0.3763699531555176], [0.3812568485736847], [0.3856359124183655], [0.3893292546272278], [0.392147034406662], [0.3938935101032257], [0.3943822979927063], [0.3934389054775238], [0.3909131586551666], [0.3866850733757019], [0.38066980242729187], [0.37281912565231323], [0.3631218373775482], [0.3516015112400055], [0.33831480145454407], [0.32334890961647034], [0.30682283639907837], [0.288890540599823], [0.26975202560424805], [0.24966952204704285], [0.22899150848388672]]\n"
     ]
    }
   ],
   "source": [
    "# demonstrate prediction for next 10 days\n",
    "from numpy import array\n",
    "\n",
    "lst_output=[]\n",
    "n_steps=100\n",
    "i=0\n",
    "while(i<30):\n",
    "    \n",
    "    if(len(temp_input)>100):\n",
    "        #print(temp_input)\n",
    "        x_input=np.array(temp_input[1:])\n",
    "        print(\"{} day input {}\".format(i,x_input))\n",
    "        x_input=x_input.reshape(1,-1)\n",
    "        x_input = x_input.reshape((1, n_steps, 1))\n",
    "        #print(x_input)\n",
    "        yhat = model.predict(x_input, verbose=0)\n",
    "        print(\"{} day output {}\".format(i,yhat))\n",
    "        temp_input.extend(yhat[0].tolist())\n",
    "        temp_input=temp_input[1:]\n",
    "        #print(temp_input)\n",
    "        lst_output.extend(yhat.tolist())\n",
    "        i=i+1\n",
    "    else:\n",
    "        x_input = x_input.reshape((1, n_steps,1))\n",
    "        yhat = model.predict(x_input, verbose=0)\n",
    "        print(yhat[0])\n",
    "        temp_input.extend(yhat[0].tolist())\n",
    "        print(len(temp_input))\n",
    "        lst_output.extend(yhat.tolist())\n",
    "        i=i+1\n",
    "    \n",
    "\n",
    "print(lst_output)"
   ]
  },
  {
   "cell_type": "code",
   "execution_count": 54,
   "metadata": {
    "id": "AhsfXTKr8DFe"
   },
   "outputs": [],
   "source": [
    "day_new=np.arange(1,101)\n",
    "day_pred=np.arange(101,131)"
   ]
  },
  {
   "cell_type": "code",
   "execution_count": 55,
   "metadata": {
    "id": "wVdwsUYx8F1p"
   },
   "outputs": [],
   "source": [
    "import matplotlib.pyplot as plt"
   ]
  },
  {
   "cell_type": "code",
   "execution_count": 56,
   "metadata": {
    "colab": {
     "base_uri": "https://localhost:8080/"
    },
    "id": "aC4432_A8Is-",
    "outputId": "6feedfb4-b4e5-4d15-d3d4-8f8a40f2e204"
   },
   "outputs": [
    {
     "data": {
      "text/plain": [
       "1258"
      ]
     },
     "execution_count": 56,
     "metadata": {},
     "output_type": "execute_result"
    }
   ],
   "source": [
    "len(df1)"
   ]
  },
  {
   "cell_type": "code",
   "execution_count": 57,
   "metadata": {
    "colab": {
     "base_uri": "https://localhost:8080/",
     "height": 282
    },
    "id": "SshgOsWJ8Meu",
    "outputId": "b177fa59-4224-4d71-fd92-bfc568267973"
   },
   "outputs": [
    {
     "data": {
      "text/plain": [
       "[<matplotlib.lines.Line2D at 0x7f3d9402e990>]"
      ]
     },
     "execution_count": 57,
     "metadata": {},
     "output_type": "execute_result"
    },
    {
     "data": {
      "image/png": "[encoded data removed]",
      "text/plain": [
       "<Figure size 432x288 with 1 Axes>"
      ]
     },
     "metadata": {
      "needs_background": "light"
     },
     "output_type": "display_data"
    }
   ],
   "source": [
    "plt.plot(day_new,scaler.inverse_transform(df1[1158:]))\n",
    "plt.plot(day_pred,scaler.inverse_transform(lst_output))"
   ]
  },
  {
   "cell_type": "code",
   "execution_count": 58,
   "metadata": {
    "colab": {
     "base_uri": "https://localhost:8080/",
     "height": 282
    },
    "id": "jEaTVuYZ8QMF",
    "outputId": "86501ee8-bc2e-4a8b-a216-e949287b6a16"
   },
   "outputs": [
    {
     "data": {
      "text/plain": [
       "[<matplotlib.lines.Line2D at 0x7f3d94092ed0>]"
      ]
     },
     "execution_count": 58,
     "metadata": {},
     "output_type": "execute_result"
    },
    {
     "data": {
      "image/png": "[encoded data removed]",
      "text/plain": [
       "<Figure size 432x288 with 1 Axes>"
      ]
     },
     "metadata": {
      "needs_background": "light"
     },
     "output_type": "display_data"
    }
   ],
   "source": [
    "df3=df1.tolist()\n",
    "df3.extend(lst_output)\n",
    "plt.plot(df3[1200:])"
   ]
  },
  {
   "cell_type": "code",
   "execution_count": 59,
   "metadata": {
    "id": "WE_ATgRb8TTs"
   },
   "outputs": [],
   "source": [
    "df3=scaler.inverse_transform(df3).tolist()"
   ]
  },
  {
   "cell_type": "code",
   "execution_count": 60,
   "metadata": {
    "colab": {
     "base_uri": "https://localhost:8080/",
     "height": 282
    },
    "id": "Olllq4FL8W-4",
    "outputId": "304c8a4f-c513-489c-fb77-827a6538f1b3"
   },
   "outputs": [
    {
     "data": {
      "text/plain": [
       "[<matplotlib.lines.Line2D at 0x7f3d9401b550>]"
      ]
     },
     "execution_count": 60,
     "metadata": {},
     "output_type": "execute_result"
    },
    {
     "data": {
      "image/png": "[encoded data removed]",
      "text/plain": [
       "<Figure size 432x288 with 1 Axes>"
      ]
     },
     "metadata": {
      "needs_background": "light"
     },
     "output_type": "display_data"
    }
   ],
   "source": [
    "plt.plot(df3)"
   ]
  },
  {
   "cell_type": "code",
   "execution_count": null,
   "metadata": {
    "id": "tVM7uKTr9lbF"
   },
   "outputs": [],
   "source": []
  }
 ],
 "metadata": {
  "colab": {
   "name": "Stock market prediction and forecasting using stacked LSTM.ipynb",
   "provenance": []
  },
  "kernelspec": {
   "display_name": "Python 3",
   "language": "python",
   "name": "python3"
  },
  "language_info": {
   "codemirror_mode": {
    "name": "ipython",
    "version": 3
   },
   "file_extension": ".py",
   "mimetype": "text/x-python",
   "name": "python",
   "nbconvert_exporter": "python",
   "pygments_lexer": "ipython3",
   "version": "3.8.5"
  }
 },
 "nbformat": 4,
 "nbformat_minor": 1
}
